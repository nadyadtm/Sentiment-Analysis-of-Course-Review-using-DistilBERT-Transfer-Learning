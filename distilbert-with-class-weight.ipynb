{
 "cells": [
  {
   "cell_type": "markdown",
   "id": "597bb39f",
   "metadata": {
    "id": "-6ETzS8O1wjN",
    "papermill": {
     "duration": 0.021031,
     "end_time": "2023-05-24T02:01:07.838226",
     "exception": false,
     "start_time": "2023-05-24T02:01:07.817195",
     "status": "completed"
    },
    "tags": []
   },
   "source": [
    "# Sentiment Analysis in Course Review using DistilBERT Transfer Learning\n",
    "\n",
    "## Background\n",
    "Dalam perusahaan edukasi, feedback siswa merupakan komponen penting dalam meningkatkan kualitas pembelajaran. Biasanya, feedback tersebut dalam bentuk tulisan atau teks. Feedback teks mengandung berbagai macam insight sehingga dapat dieksplorasi lebih lanjut.\n",
    "\n",
    "Dalam data bentuk teks, kita dapat menemukan sentimen dari teks tersebut, yaitu mengetahui apakah feedback tersebut bersifat positif, netral, atau negatif. Namun, bila jumlah feedback besar akan sangat sulit untuk mengecek satu-satu sentimennya. Oleh karena itu perlu proses yang otomatis untuk mendapatkan sentimen dari teks tersebut, yaitu dengan menggunakan analisis sentimen."
   ]
  },
  {
   "cell_type": "markdown",
   "id": "c7cac0ac",
   "metadata": {
    "id": "d8E-9Ry1_RIf",
    "papermill": {
     "duration": 0.020111,
     "end_time": "2023-05-24T02:01:07.878651",
     "exception": false,
     "start_time": "2023-05-24T02:01:07.858540",
     "status": "completed"
    },
    "tags": []
   },
   "source": [
    "## Install Package\n",
    "Untuk menggunakan arsitektur pretrained DistilBert, diperlukan sebuah package yang bernama `Transformers`. Transformers adalah sebuah package yang menyediakan berbagai macam pretrained model bahasa dari arsitektur berbasis tranformers."
   ]
  },
  {
   "cell_type": "code",
   "execution_count": 1,
   "id": "fde91760",
   "metadata": {
    "execution": {
     "iopub.execute_input": "2023-05-24T02:01:07.921853Z",
     "iopub.status.busy": "2023-05-24T02:01:07.921023Z",
     "iopub.status.idle": "2023-05-24T02:01:07.926224Z",
     "shell.execute_reply": "2023-05-24T02:01:07.925347Z"
    },
    "id": "JYu9o-_DEq03",
    "outputId": "9a91f33d-6b75-4f69-ba4c-afb226128183",
    "papermill": {
     "duration": 0.030423,
     "end_time": "2023-05-24T02:01:07.930011",
     "exception": false,
     "start_time": "2023-05-24T02:01:07.899588",
     "status": "completed"
    },
    "tags": []
   },
   "outputs": [],
   "source": [
    "# !pip install transformers"
   ]
  },
  {
   "cell_type": "markdown",
   "id": "4de25915",
   "metadata": {
    "id": "0DhkBxRhGEbS",
    "papermill": {
     "duration": 0.020089,
     "end_time": "2023-05-24T02:01:07.970429",
     "exception": false,
     "start_time": "2023-05-24T02:01:07.950340",
     "status": "completed"
    },
    "tags": []
   },
   "source": [
    "## Set Device\n",
    "Proses pelatihan neural network akan membutuhkan resource yang besar, sehingga kita akan membutuhkan GPU. Berikut ini adalah code untuk melakukan pengecekan apakah dalam device yang digunakan terdapat GPU atau tidak. Jika tidak ada GPU maka akan otomatis menggunakan CPU saja."
   ]
  },
  {
   "cell_type": "code",
   "execution_count": 2,
   "id": "24f02207",
   "metadata": {
    "execution": {
     "iopub.execute_input": "2023-05-24T02:01:08.013656Z",
     "iopub.status.busy": "2023-05-24T02:01:08.012748Z",
     "iopub.status.idle": "2023-05-24T02:01:12.120611Z",
     "shell.execute_reply": "2023-05-24T02:01:12.119653Z"
    },
    "id": "5FBnzkWXGGZh",
    "outputId": "25e9734f-05e8-41ad-ee8d-c44af01efadd",
    "papermill": {
     "duration": 4.132728,
     "end_time": "2023-05-24T02:01:12.123154",
     "exception": false,
     "start_time": "2023-05-24T02:01:07.990426",
     "status": "completed"
    },
    "tags": []
   },
   "outputs": [
    {
     "name": "stdout",
     "output_type": "stream",
     "text": [
      "There are 2 GPU(s) available.\n",
      "Device name: Tesla T4\n"
     ]
    }
   ],
   "source": [
    "#mengecek apakah terdapat GPU pada komputer\n",
    "import torch\n",
    "if torch.cuda.is_available():       \n",
    "    device = torch.device(\"cuda\")\n",
    "    print(f'There are {torch.cuda.device_count()} GPU(s) available.')\n",
    "    print('Device name:', torch.cuda.get_device_name(0))\n",
    "#jika tidak ada maka gunakan CPU untuk menjalankan program\n",
    "else:\n",
    "    print('No GPU available, using the CPU instead.')\n",
    "    device = torch.device(\"cpu\")"
   ]
  },
  {
   "cell_type": "markdown",
   "id": "140cbbd3",
   "metadata": {
    "id": "Jcvi2xO61wjc",
    "papermill": {
     "duration": 0.02049,
     "end_time": "2023-05-24T02:01:12.163997",
     "exception": false,
     "start_time": "2023-05-24T02:01:12.143507",
     "status": "completed"
    },
    "tags": []
   },
   "source": [
    "## Import Packages\n",
    "Berikut ini adalah beberapa package yang digunakan untuk membangun model dan melakukan analisis. Diantaranya adalah sebagai berikut."
   ]
  },
  {
   "cell_type": "code",
   "execution_count": 3,
   "id": "63aa0489",
   "metadata": {
    "_cell_guid": "b1076dfc-b9ad-4769-8c92-a6c4dae69d19",
    "_uuid": "8f2839f25d086af736a60e9eeb907d3b93b6e0e5",
    "execution": {
     "iopub.execute_input": "2023-05-24T02:01:12.206002Z",
     "iopub.status.busy": "2023-05-24T02:01:12.205439Z",
     "iopub.status.idle": "2023-05-24T02:01:23.650579Z",
     "shell.execute_reply": "2023-05-24T02:01:23.649597Z"
    },
    "id": "-G9LOlgv1wje",
    "outputId": "17a123a8-aad8-4900-f7ac-4523a458a0df",
    "papermill": {
     "duration": 11.468408,
     "end_time": "2023-05-24T02:01:23.652678",
     "exception": false,
     "start_time": "2023-05-24T02:01:12.184270",
     "status": "completed"
    },
    "tags": []
   },
   "outputs": [
    {
     "name": "stderr",
     "output_type": "stream",
     "text": [
      "/opt/conda/lib/python3.10/site-packages/scipy/__init__.py:146: UserWarning: A NumPy version >=1.16.5 and <1.23.0 is required for this version of SciPy (detected version 1.23.5\n",
      "  warnings.warn(f\"A NumPy version >={np_minversion} and <{np_maxversion}\"\n"
     ]
    },
    {
     "name": "stdout",
     "output_type": "stream",
     "text": [
      "[nltk_data] Downloading package punkt to /usr/share/nltk_data...\n",
      "[nltk_data]   Package punkt is already up-to-date!\n"
     ]
    },
    {
     "data": {
      "text/plain": [
       "True"
      ]
     },
     "execution_count": 3,
     "metadata": {},
     "output_type": "execute_result"
    }
   ],
   "source": [
    "import numpy as np \n",
    "import pandas as pd \n",
    "import seaborn as sns\n",
    "import matplotlib.pyplot as plt\n",
    "from os import path\n",
    "from PIL import Image\n",
    "from wordcloud import WordCloud, STOPWORDS, ImageColorGenerator\n",
    "import torch\n",
    "import transformers\n",
    "from transformers import DistilBertModel, DistilBertTokenizer\n",
    "from torch.optim import Adam\n",
    "\n",
    "import os\n",
    "import nltk\n",
    "from nltk.tokenize import word_tokenize\n",
    "nltk.download(\"punkt\")"
   ]
  },
  {
   "cell_type": "markdown",
   "id": "93a3c053",
   "metadata": {
    "papermill": {
     "duration": 0.020633,
     "end_time": "2023-05-24T02:01:23.694108",
     "exception": false,
     "start_time": "2023-05-24T02:01:23.673475",
     "status": "completed"
    },
    "tags": []
   },
   "source": [
    "Jangan lupa untuk set random seed, agar ketika code dijalankan berkali-kali hasilnya tidak berubah-ubah."
   ]
  },
  {
   "cell_type": "code",
   "execution_count": 4,
   "id": "237496e8",
   "metadata": {
    "execution": {
     "iopub.execute_input": "2023-05-24T02:01:23.737791Z",
     "iopub.status.busy": "2023-05-24T02:01:23.736885Z",
     "iopub.status.idle": "2023-05-24T02:01:23.746471Z",
     "shell.execute_reply": "2023-05-24T02:01:23.745373Z"
    },
    "papermill": {
     "duration": 0.033413,
     "end_time": "2023-05-24T02:01:23.748616",
     "exception": false,
     "start_time": "2023-05-24T02:01:23.715203",
     "status": "completed"
    },
    "tags": []
   },
   "outputs": [
    {
     "data": {
      "text/plain": [
       "<torch._C.Generator at 0x7a7d3b2f0ef0>"
      ]
     },
     "execution_count": 4,
     "metadata": {},
     "output_type": "execute_result"
    }
   ],
   "source": [
    "RANDOM_SEED = 42\n",
    "np.random.seed(RANDOM_SEED)\n",
    "torch.manual_seed(RANDOM_SEED)"
   ]
  },
  {
   "cell_type": "markdown",
   "id": "f38be3b4",
   "metadata": {
    "id": "dNCbpA871wjm",
    "papermill": {
     "duration": 0.020783,
     "end_time": "2023-05-24T02:01:23.790245",
     "exception": false,
     "start_time": "2023-05-24T02:01:23.769462",
     "status": "completed"
    },
    "tags": []
   },
   "source": [
    "## Read Dataset\n",
    "Dalam notebook ini, akan digunakan dataset 100k Courseras Course Review. Dataset tersebut merupakan review dari kursus-kursus online yang berasal dari situs Coursera. Dataset tersebut dapat diakses pada <a href = \"https://www.kaggle.com/datasets/septa97/100k-courseras-course-reviews-dataset\"> link </a> berikut ini."
   ]
  },
  {
   "cell_type": "code",
   "execution_count": 5,
   "id": "a8ca9668",
   "metadata": {
    "execution": {
     "iopub.execute_input": "2023-05-24T02:01:23.833916Z",
     "iopub.status.busy": "2023-05-24T02:01:23.833302Z",
     "iopub.status.idle": "2023-05-24T02:01:24.318772Z",
     "shell.execute_reply": "2023-05-24T02:01:24.317743Z"
    },
    "id": "1u1rs9QC1wjn",
    "outputId": "153c1c37-ed1e-4cde-9bc2-1cf10baaff5f",
    "papermill": {
     "duration": 0.510147,
     "end_time": "2023-05-24T02:01:24.321051",
     "exception": false,
     "start_time": "2023-05-24T02:01:23.810904",
     "status": "completed"
    },
    "tags": []
   },
   "outputs": [
    {
     "data": {
      "text/html": [
       "<div>\n",
       "<style scoped>\n",
       "    .dataframe tbody tr th:only-of-type {\n",
       "        vertical-align: middle;\n",
       "    }\n",
       "\n",
       "    .dataframe tbody tr th {\n",
       "        vertical-align: top;\n",
       "    }\n",
       "\n",
       "    .dataframe thead th {\n",
       "        text-align: right;\n",
       "    }\n",
       "</style>\n",
       "<table border=\"1\" class=\"dataframe\">\n",
       "  <thead>\n",
       "    <tr style=\"text-align: right;\">\n",
       "      <th></th>\n",
       "      <th>Id</th>\n",
       "      <th>Review</th>\n",
       "      <th>Label</th>\n",
       "    </tr>\n",
       "  </thead>\n",
       "  <tbody>\n",
       "    <tr>\n",
       "      <th>0</th>\n",
       "      <td>0</td>\n",
       "      <td>good and interesting</td>\n",
       "      <td>5</td>\n",
       "    </tr>\n",
       "    <tr>\n",
       "      <th>1</th>\n",
       "      <td>1</td>\n",
       "      <td>This class is very helpful to me. Currently, I...</td>\n",
       "      <td>5</td>\n",
       "    </tr>\n",
       "    <tr>\n",
       "      <th>2</th>\n",
       "      <td>2</td>\n",
       "      <td>like!Prof and TAs are helpful and the discussi...</td>\n",
       "      <td>5</td>\n",
       "    </tr>\n",
       "    <tr>\n",
       "      <th>3</th>\n",
       "      <td>3</td>\n",
       "      <td>Easy to follow and includes a lot basic and im...</td>\n",
       "      <td>5</td>\n",
       "    </tr>\n",
       "    <tr>\n",
       "      <th>4</th>\n",
       "      <td>4</td>\n",
       "      <td>Really nice teacher!I could got the point eazl...</td>\n",
       "      <td>4</td>\n",
       "    </tr>\n",
       "  </tbody>\n",
       "</table>\n",
       "</div>"
      ],
      "text/plain": [
       "   Id                                             Review  Label\n",
       "0   0                               good and interesting      5\n",
       "1   1  This class is very helpful to me. Currently, I...      5\n",
       "2   2  like!Prof and TAs are helpful and the discussi...      5\n",
       "3   3  Easy to follow and includes a lot basic and im...      5\n",
       "4   4  Really nice teacher!I could got the point eazl...      4"
      ]
     },
     "execution_count": 5,
     "metadata": {},
     "output_type": "execute_result"
    }
   ],
   "source": [
    "df = pd.read_csv(\"/kaggle/input/100k-courseras-course-reviews-dataset/reviews.csv\")\n",
    "df.head()"
   ]
  },
  {
   "cell_type": "markdown",
   "id": "492e6d6a",
   "metadata": {
    "papermill": {
     "duration": 0.020491,
     "end_time": "2023-05-24T02:01:24.363791",
     "exception": false,
     "start_time": "2023-05-24T02:01:24.343300",
     "status": "completed"
    },
    "tags": []
   },
   "source": [
    "**Keterangan**\n",
    "* `id` : ID Review\n",
    "* `Review` : Teks Review\n",
    "* `Label` : Rating dari Review (1-5)"
   ]
  },
  {
   "cell_type": "markdown",
   "id": "b3787ea5",
   "metadata": {
    "papermill": {
     "duration": 0.020651,
     "end_time": "2023-05-24T02:01:24.405197",
     "exception": false,
     "start_time": "2023-05-24T02:01:24.384546",
     "status": "completed"
    },
    "tags": []
   },
   "source": [
    "## Label Sentiment\n",
    "Dalam notebook ini, akan dilakukan konversi terhadap label-label tersebut menjadi nilai sentimen (positive, neutral, negative).\n",
    "* Jika rating 4 - 5, maka nilai sentimennya adalah positive\n",
    "* Jika rating 3, maka nilai sentimennya adalah neutral\n",
    "* Jika rating 1 - 2, maka nilai sentimennya adalah negative"
   ]
  },
  {
   "cell_type": "code",
   "execution_count": 6,
   "id": "380ac9b0",
   "metadata": {
    "execution": {
     "iopub.execute_input": "2023-05-24T02:01:24.449772Z",
     "iopub.status.busy": "2023-05-24T02:01:24.448869Z",
     "iopub.status.idle": "2023-05-24T02:01:24.501947Z",
     "shell.execute_reply": "2023-05-24T02:01:24.501036Z"
    },
    "papermill": {
     "duration": 0.077728,
     "end_time": "2023-05-24T02:01:24.504160",
     "exception": false,
     "start_time": "2023-05-24T02:01:24.426432",
     "status": "completed"
    },
    "tags": []
   },
   "outputs": [],
   "source": [
    "def sentiment_label(x):\n",
    "    if ((x == 4) or (x == 5)):\n",
    "        return \"positive\"\n",
    "    elif (x == 3):\n",
    "        return \"neutral\"\n",
    "    elif ((x == 1) or (x == 2)):\n",
    "        return \"negative\"\n",
    "    \n",
    "df[\"Sentiment\"] = df[\"Label\"].apply(lambda x : sentiment_label(x))"
   ]
  },
  {
   "cell_type": "code",
   "execution_count": 7,
   "id": "4df0b2d5",
   "metadata": {
    "execution": {
     "iopub.execute_input": "2023-05-24T02:01:24.547542Z",
     "iopub.status.busy": "2023-05-24T02:01:24.546723Z",
     "iopub.status.idle": "2023-05-24T02:01:24.557225Z",
     "shell.execute_reply": "2023-05-24T02:01:24.556219Z"
    },
    "id": "_jM3yUAbQ4kn",
    "outputId": "47f03b27-8cbf-4c3e-e582-f34a18f97234",
    "papermill": {
     "duration": 0.034337,
     "end_time": "2023-05-24T02:01:24.559350",
     "exception": false,
     "start_time": "2023-05-24T02:01:24.525013",
     "status": "completed"
    },
    "tags": []
   },
   "outputs": [
    {
     "data": {
      "text/html": [
       "<div>\n",
       "<style scoped>\n",
       "    .dataframe tbody tr th:only-of-type {\n",
       "        vertical-align: middle;\n",
       "    }\n",
       "\n",
       "    .dataframe tbody tr th {\n",
       "        vertical-align: top;\n",
       "    }\n",
       "\n",
       "    .dataframe thead th {\n",
       "        text-align: right;\n",
       "    }\n",
       "</style>\n",
       "<table border=\"1\" class=\"dataframe\">\n",
       "  <thead>\n",
       "    <tr style=\"text-align: right;\">\n",
       "      <th></th>\n",
       "      <th>Id</th>\n",
       "      <th>Review</th>\n",
       "      <th>Label</th>\n",
       "      <th>Sentiment</th>\n",
       "    </tr>\n",
       "  </thead>\n",
       "  <tbody>\n",
       "    <tr>\n",
       "      <th>0</th>\n",
       "      <td>0</td>\n",
       "      <td>good and interesting</td>\n",
       "      <td>5</td>\n",
       "      <td>positive</td>\n",
       "    </tr>\n",
       "    <tr>\n",
       "      <th>1</th>\n",
       "      <td>1</td>\n",
       "      <td>This class is very helpful to me. Currently, I...</td>\n",
       "      <td>5</td>\n",
       "      <td>positive</td>\n",
       "    </tr>\n",
       "    <tr>\n",
       "      <th>2</th>\n",
       "      <td>2</td>\n",
       "      <td>like!Prof and TAs are helpful and the discussi...</td>\n",
       "      <td>5</td>\n",
       "      <td>positive</td>\n",
       "    </tr>\n",
       "    <tr>\n",
       "      <th>3</th>\n",
       "      <td>3</td>\n",
       "      <td>Easy to follow and includes a lot basic and im...</td>\n",
       "      <td>5</td>\n",
       "      <td>positive</td>\n",
       "    </tr>\n",
       "    <tr>\n",
       "      <th>4</th>\n",
       "      <td>4</td>\n",
       "      <td>Really nice teacher!I could got the point eazl...</td>\n",
       "      <td>4</td>\n",
       "      <td>positive</td>\n",
       "    </tr>\n",
       "  </tbody>\n",
       "</table>\n",
       "</div>"
      ],
      "text/plain": [
       "   Id                                             Review  Label Sentiment\n",
       "0   0                               good and interesting      5  positive\n",
       "1   1  This class is very helpful to me. Currently, I...      5  positive\n",
       "2   2  like!Prof and TAs are helpful and the discussi...      5  positive\n",
       "3   3  Easy to follow and includes a lot basic and im...      5  positive\n",
       "4   4  Really nice teacher!I could got the point eazl...      4  positive"
      ]
     },
     "execution_count": 7,
     "metadata": {},
     "output_type": "execute_result"
    }
   ],
   "source": [
    "df.head()"
   ]
  },
  {
   "cell_type": "markdown",
   "id": "6346cba1",
   "metadata": {
    "id": "TitMwOi11wjq",
    "papermill": {
     "duration": 0.021089,
     "end_time": "2023-05-24T02:01:24.602936",
     "exception": false,
     "start_time": "2023-05-24T02:01:24.581847",
     "status": "completed"
    },
    "tags": []
   },
   "source": [
    "## Class Distribution\n",
    "Pada bagian ini, akan dilakukan pengecekan distribusi kelas terlebih dahulu untuk melakukan penanganan selanjutnya."
   ]
  },
  {
   "cell_type": "code",
   "execution_count": 8,
   "id": "ca19bfc5",
   "metadata": {
    "execution": {
     "iopub.execute_input": "2023-05-24T02:01:24.648021Z",
     "iopub.status.busy": "2023-05-24T02:01:24.647123Z",
     "iopub.status.idle": "2023-05-24T02:01:24.903092Z",
     "shell.execute_reply": "2023-05-24T02:01:24.902138Z"
    },
    "id": "XJKg6FSn1wjs",
    "outputId": "56fde5fb-d8f7-4aad-df5a-e12d97459883",
    "papermill": {
     "duration": 0.280266,
     "end_time": "2023-05-24T02:01:24.905170",
     "exception": false,
     "start_time": "2023-05-24T02:01:24.624904",
     "status": "completed"
    },
    "tags": []
   },
   "outputs": [
    {
     "data": {
      "text/plain": [
       "<AxesSubplot: ylabel='Sentiment'>"
      ]
     },
     "execution_count": 8,
     "metadata": {},
     "output_type": "execute_result"
    },
    {
     "data": {
      "image/png": "[encoded data removed]",
      "text/plain": [
       "<Figure size 640x480 with 1 Axes>"
      ]
     },
     "metadata": {},
     "output_type": "display_data"
    }
   ],
   "source": [
    "# check class distribution\n",
    "import seaborn as sns\n",
    "sns.barplot(x = df[\"Sentiment\"].value_counts().index, y = df[\"Sentiment\"].value_counts())"
   ]
  },
  {
   "cell_type": "markdown",
   "id": "301baad5",
   "metadata": {
    "papermill": {
     "duration": 0.021163,
     "end_time": "2023-05-24T02:01:24.947940",
     "exception": false,
     "start_time": "2023-05-24T02:01:24.926777",
     "status": "completed"
    },
    "tags": []
   },
   "source": [
    "Data tersebut merupakan data yang imbalance, sehingga perlu adanya penanganan lebih lanjut ketika akan melakukan pelatihan. Namun sebelumnya kita perlu memproses dan menganalisis lebih lanjut data teks yang dimiliki."
   ]
  },
  {
   "cell_type": "markdown",
   "id": "00a911f6",
   "metadata": {
    "papermill": {
     "duration": 0.020972,
     "end_time": "2023-05-24T02:01:24.990437",
     "exception": false,
     "start_time": "2023-05-24T02:01:24.969465",
     "status": "completed"
    },
    "tags": []
   },
   "source": [
    "## Text Analysis\n",
    "Sebelum melakukan analisis lebih lanjut, kita perlu melakukan preprocessing teks terlebih dahulu agar dapat melakukan analisis."
   ]
  },
  {
   "cell_type": "markdown",
   "id": "5c485a72",
   "metadata": {
    "papermill": {
     "duration": 0.021103,
     "end_time": "2023-05-24T02:01:25.033389",
     "exception": false,
     "start_time": "2023-05-24T02:01:25.012286",
     "status": "completed"
    },
    "tags": []
   },
   "source": [
    "### Word Cloud\n",
    "Kita akan mencoba untuk menganalisis wordcloud dari setiap sentimen yang ada. Namun sebelumnya kita perlu melakukan preprocessing terhadap data agar dapat menemukan insight yang berarti."
   ]
  },
  {
   "cell_type": "markdown",
   "id": "e8425c23",
   "metadata": {
    "papermill": {
     "duration": 0.0211,
     "end_time": "2023-05-24T02:01:25.076360",
     "exception": false,
     "start_time": "2023-05-24T02:01:25.055260",
     "status": "completed"
    },
    "tags": []
   },
   "source": [
    "#### Text Preprocessing\n",
    "Berikut ini adalah preprocessing yang dilakukan. \n",
    "1. **Pemanjangan kata slang inggris.** Contohnya adalah IMO menjadi in my opinion. Daftar kata slang terdapat pada <a href = \"https://www.kaggle.com/datasets/aksharagadwe/abbreviations-and-slangs-for-text-preprocessing\"> link </a> berikut.\n",
    "2. **Pengoreksian aphrostope pada kata inggris.** Contohnya adalah dont menjadi don't."
   ]
  },
  {
   "cell_type": "code",
   "execution_count": 9,
   "id": "188a8612",
   "metadata": {
    "execution": {
     "iopub.execute_input": "2023-05-24T02:01:25.121086Z",
     "iopub.status.busy": "2023-05-24T02:01:25.120167Z",
     "iopub.status.idle": "2023-05-24T02:01:25.138827Z",
     "shell.execute_reply": "2023-05-24T02:01:25.137995Z"
    },
    "papermill": {
     "duration": 0.043217,
     "end_time": "2023-05-24T02:01:25.140881",
     "exception": false,
     "start_time": "2023-05-24T02:01:25.097664",
     "status": "completed"
    },
    "tags": []
   },
   "outputs": [],
   "source": [
    "abb_slangs = pd.read_csv(\"/kaggle/input/abbreviations-and-slangs-for-text-preprocessing/Abbreviations and Slang.csv\")\n",
    "slangs_dict = dict(zip(abb_slangs[\"Abbreviations\"],abb_slangs[\"Text\"]))\n",
    "\n",
    "#add more dictionary\n",
    "slangs_dict[\"luv\"] = \"love\""
   ]
  },
  {
   "cell_type": "markdown",
   "id": "bb480c52",
   "metadata": {
    "papermill": {
     "duration": 0.020927,
     "end_time": "2023-05-24T02:01:25.183004",
     "exception": false,
     "start_time": "2023-05-24T02:01:25.162077",
     "status": "completed"
    },
    "tags": []
   },
   "source": [
    "Preprocessing tersebut dibungkus dalam fungsi-fungsi berikut ini"
   ]
  },
  {
   "cell_type": "code",
   "execution_count": 10,
   "id": "6e525481",
   "metadata": {
    "execution": {
     "iopub.execute_input": "2023-05-24T02:01:25.228021Z",
     "iopub.status.busy": "2023-05-24T02:01:25.227684Z",
     "iopub.status.idle": "2023-05-24T02:01:25.234918Z",
     "shell.execute_reply": "2023-05-24T02:01:25.233985Z"
    },
    "papermill": {
     "duration": 0.032126,
     "end_time": "2023-05-24T02:01:25.236917",
     "exception": false,
     "start_time": "2023-05-24T02:01:25.204791",
     "status": "completed"
    },
    "tags": []
   },
   "outputs": [],
   "source": [
    "# normalisasi teks-teks yang typo\n",
    "def abb_slangs_conv(x):\n",
    "    if x in slangs_dict.keys():\n",
    "        return slangs_dict[x]\n",
    "    else:\n",
    "        return x\n",
    "\n",
    "def prep_text(text):\n",
    "    cur_text = text.replace('cant', \"can't\")\n",
    "    cur_text = cur_text.replace('wouldnt', \"wouldn't\")\n",
    "    cur_text = cur_text.replace('dont', \"don't\")\n",
    "    cur_text = cur_text.replace('didnt', \"didn't\")\n",
    "    cur_text = cur_text.replace('doesnt',\"doesn't\")\n",
    "    cur_text = cur_text.replace('wont',\"won't\")\n",
    "    cur_text = cur_text.replace(\"youre\", \"you're\")\n",
    "    \n",
    "    curr_words = word_tokenize(str.lower(cur_text))\n",
    "    cleaned_text = ' '.join([abb_slangs_conv(w) for w in curr_words])  \n",
    "            \n",
    "    return cleaned_text"
   ]
  },
  {
   "cell_type": "markdown",
   "id": "88422426",
   "metadata": {
    "papermill": {
     "duration": 0.022425,
     "end_time": "2023-05-24T02:01:25.281856",
     "exception": false,
     "start_time": "2023-05-24T02:01:25.259431",
     "status": "completed"
    },
    "tags": []
   },
   "source": [
    "Kemudian, lakukan preprocessing yang dimasukkan ke dalam kolom `preprocessed_review`"
   ]
  },
  {
   "cell_type": "code",
   "execution_count": 11,
   "id": "c1aebfda",
   "metadata": {
    "execution": {
     "iopub.execute_input": "2023-05-24T02:01:25.326877Z",
     "iopub.status.busy": "2023-05-24T02:01:25.326536Z",
     "iopub.status.idle": "2023-05-24T02:02:07.774542Z",
     "shell.execute_reply": "2023-05-24T02:02:07.773577Z"
    },
    "papermill": {
     "duration": 42.473151,
     "end_time": "2023-05-24T02:02:07.777003",
     "exception": false,
     "start_time": "2023-05-24T02:01:25.303852",
     "status": "completed"
    },
    "tags": []
   },
   "outputs": [],
   "source": [
    "df[\"preprocessed_review\"] = df[\"Review\"].apply(lambda x : prep_text(x))"
   ]
  },
  {
   "cell_type": "markdown",
   "id": "be4ef0a4",
   "metadata": {
    "papermill": {
     "duration": 0.021599,
     "end_time": "2023-05-24T02:02:07.820485",
     "exception": false,
     "start_time": "2023-05-24T02:02:07.798886",
     "status": "completed"
    },
    "tags": []
   },
   "source": [
    "Ketika melakukan analisis teks dengan visualisasi wordcloud, kita perlu melakukan lematisasi atau mengubah kata yang mempunyai imbuhan menjadi kata dasar. Oleh karena itu, kita akan menggunakan package `nltk` untuk melakukan lemmatisasi. Namun sebelumnya, kita perlu mendownload `wordnet` terlebih dahulu."
   ]
  },
  {
   "cell_type": "code",
   "execution_count": 12,
   "id": "3b3727c5",
   "metadata": {
    "execution": {
     "iopub.execute_input": "2023-05-24T02:02:07.864492Z",
     "iopub.status.busy": "2023-05-24T02:02:07.864142Z",
     "iopub.status.idle": "2023-05-24T02:02:09.208692Z",
     "shell.execute_reply": "2023-05-24T02:02:09.207496Z"
    },
    "papermill": {
     "duration": 1.369488,
     "end_time": "2023-05-24T02:02:09.211193",
     "exception": false,
     "start_time": "2023-05-24T02:02:07.841705",
     "status": "completed"
    },
    "tags": []
   },
   "outputs": [
    {
     "name": "stdout",
     "output_type": "stream",
     "text": [
      "[nltk_data] Downloading package wordnet to /usr/share/nltk_data...\n",
      "[nltk_data]   Package wordnet is already up-to-date!\n",
      "Archive:  /usr/share/nltk_data/corpora/wordnet.zip\r\n",
      "   creating: /usr/share/nltk_data/corpora/wordnet/\r\n",
      "  inflating: /usr/share/nltk_data/corpora/wordnet/lexnames  \r\n",
      "  inflating: /usr/share/nltk_data/corpora/wordnet/data.verb  \r\n",
      "  inflating: /usr/share/nltk_data/corpora/wordnet/index.adv  \r\n",
      "  inflating: /usr/share/nltk_data/corpora/wordnet/adv.exc  \r\n",
      "  inflating: /usr/share/nltk_data/corpora/wordnet/index.verb  \r\n",
      "  inflating: /usr/share/nltk_data/corpora/wordnet/cntlist.rev  \r\n",
      "  inflating: /usr/share/nltk_data/corpora/wordnet/data.adj  \r\n",
      "  inflating: /usr/share/nltk_data/corpora/wordnet/index.adj  \r\n",
      "  inflating: /usr/share/nltk_data/corpora/wordnet/LICENSE  \r\n",
      "  inflating: /usr/share/nltk_data/corpora/wordnet/citation.bib  \r\n",
      "  inflating: /usr/share/nltk_data/corpora/wordnet/noun.exc  \r\n",
      "  inflating: /usr/share/nltk_data/corpora/wordnet/verb.exc  \r\n",
      "  inflating: /usr/share/nltk_data/corpora/wordnet/README  \r\n",
      "  inflating: /usr/share/nltk_data/corpora/wordnet/index.sense  \r\n",
      "  inflating: /usr/share/nltk_data/corpora/wordnet/data.noun  \r\n",
      "  inflating: /usr/share/nltk_data/corpora/wordnet/data.adv  \r\n",
      "  inflating: /usr/share/nltk_data/corpora/wordnet/index.noun  \r\n",
      "  inflating: /usr/share/nltk_data/corpora/wordnet/adj.exc  \r\n"
     ]
    }
   ],
   "source": [
    "# import these modules\n",
    "from nltk.stem import WordNetLemmatizer\n",
    "nltk.download('wordnet')\n",
    "!unzip /usr/share/nltk_data/corpora/wordnet.zip -d /usr/share/nltk_data/corpora/"
   ]
  },
  {
   "cell_type": "markdown",
   "id": "8c2f2150",
   "metadata": {
    "papermill": {
     "duration": 0.021486,
     "end_time": "2023-05-24T02:02:09.255130",
     "exception": false,
     "start_time": "2023-05-24T02:02:09.233644",
     "status": "completed"
    },
    "tags": []
   },
   "source": [
    "Kemudian, lakukan lemmatisasi pada masing-masing teks berdasarkan labelnya. Pertama, kita perlu memisahkan teks review berdasarkan labelnya dan menggabungkan semua review menjadi satu string."
   ]
  },
  {
   "cell_type": "code",
   "execution_count": 13,
   "id": "6200e7ec",
   "metadata": {
    "execution": {
     "iopub.execute_input": "2023-05-24T02:02:09.302498Z",
     "iopub.status.busy": "2023-05-24T02:02:09.301497Z",
     "iopub.status.idle": "2023-05-24T02:02:09.457113Z",
     "shell.execute_reply": "2023-05-24T02:02:09.456077Z"
    },
    "papermill": {
     "duration": 0.181891,
     "end_time": "2023-05-24T02:02:09.459711",
     "exception": false,
     "start_time": "2023-05-24T02:02:09.277820",
     "status": "completed"
    },
    "tags": []
   },
   "outputs": [],
   "source": [
    "text_positive = df[df[\"Sentiment\"]==\"positive\"]\n",
    "text_negative = df[df[\"Sentiment\"]==\"negative\"]\n",
    "text_neutral = df[df[\"Sentiment\"]==\"neutral\"]\n",
    "\n",
    "text_positives = \" \".join(review for review in text_positive.preprocessed_review)\n",
    "text_negatives = \" \".join(review for review in text_negative.preprocessed_review)\n",
    "text_neutrals = \" \".join(review for review in text_neutral.preprocessed_review)"
   ]
  },
  {
   "cell_type": "markdown",
   "id": "cff17d18",
   "metadata": {
    "execution": {
     "iopub.execute_input": "2023-05-22T07:25:58.983483Z",
     "iopub.status.busy": "2023-05-22T07:25:58.980079Z",
     "iopub.status.idle": "2023-05-22T07:25:58.996819Z",
     "shell.execute_reply": "2023-05-22T07:25:58.994882Z",
     "shell.execute_reply.started": "2023-05-22T07:25:58.983445Z"
    },
    "papermill": {
     "duration": 0.022105,
     "end_time": "2023-05-24T02:02:09.505068",
     "exception": false,
     "start_time": "2023-05-24T02:02:09.482963",
     "status": "completed"
    },
    "tags": []
   },
   "source": [
    "Lalu kemudian, lakukan lemmatisasi. Disini kita akan mengemasnya dalam sebuah fungsi."
   ]
  },
  {
   "cell_type": "code",
   "execution_count": 14,
   "id": "48a30da9",
   "metadata": {
    "execution": {
     "iopub.execute_input": "2023-05-24T02:02:09.550851Z",
     "iopub.status.busy": "2023-05-24T02:02:09.550488Z",
     "iopub.status.idle": "2023-05-24T02:02:09.555545Z",
     "shell.execute_reply": "2023-05-24T02:02:09.554647Z"
    },
    "papermill": {
     "duration": 0.02972,
     "end_time": "2023-05-24T02:02:09.557425",
     "exception": false,
     "start_time": "2023-05-24T02:02:09.527705",
     "status": "completed"
    },
    "tags": []
   },
   "outputs": [],
   "source": [
    "lemmatizer = WordNetLemmatizer()\n",
    "\n",
    "def lemma_text(x):\n",
    "    word_list = word_tokenize(x)\n",
    "    lemmatized_output = ' '.join([lemmatizer.lemmatize(str.lower(w)) for w in word_list])\n",
    "    return lemmatized_output"
   ]
  },
  {
   "cell_type": "code",
   "execution_count": 15,
   "id": "ecd3a851",
   "metadata": {
    "execution": {
     "iopub.execute_input": "2023-05-24T02:02:09.604036Z",
     "iopub.status.busy": "2023-05-24T02:02:09.603121Z",
     "iopub.status.idle": "2023-05-24T02:03:06.798495Z",
     "shell.execute_reply": "2023-05-24T02:03:06.797308Z"
    },
    "papermill": {
     "duration": 57.221822,
     "end_time": "2023-05-24T02:03:06.801203",
     "exception": false,
     "start_time": "2023-05-24T02:02:09.579381",
     "status": "completed"
    },
    "tags": []
   },
   "outputs": [],
   "source": [
    "text_positives = lemma_text(text_positives)\n",
    "text_negatives = lemma_text(text_negatives)\n",
    "text_neutrals = lemma_text(text_neutrals)"
   ]
  },
  {
   "cell_type": "markdown",
   "id": "25c77789",
   "metadata": {
    "papermill": {
     "duration": 0.022329,
     "end_time": "2023-05-24T02:03:06.846627",
     "exception": false,
     "start_time": "2023-05-24T02:03:06.824298",
     "status": "completed"
    },
    "tags": []
   },
   "source": [
    "Kemudian, kita akan menghapus stopwords agar dapat menangkap kata-kata yang bersifat penting dalam analisis. package `wordcloud` dapat secara otomatis menghapus stopwords dengan menginisiasi stopwordsnya terlebih dahulu."
   ]
  },
  {
   "cell_type": "code",
   "execution_count": 16,
   "id": "c1bfd005",
   "metadata": {
    "execution": {
     "iopub.execute_input": "2023-05-24T02:03:06.893062Z",
     "iopub.status.busy": "2023-05-24T02:03:06.892689Z",
     "iopub.status.idle": "2023-05-24T02:03:06.897173Z",
     "shell.execute_reply": "2023-05-24T02:03:06.896275Z"
    },
    "papermill": {
     "duration": 0.030163,
     "end_time": "2023-05-24T02:03:06.899405",
     "exception": false,
     "start_time": "2023-05-24T02:03:06.869242",
     "status": "completed"
    },
    "tags": []
   },
   "outputs": [],
   "source": [
    "# Create stopword list:\n",
    "stopwords = set(STOPWORDS)\n",
    "stopwords.update([\"n't\",\"'m\",\"'re\",\"'ll\", \"'s\"])"
   ]
  },
  {
   "cell_type": "markdown",
   "id": "75d43d91",
   "metadata": {
    "papermill": {
     "duration": 0.021565,
     "end_time": "2023-05-24T02:03:06.942870",
     "exception": false,
     "start_time": "2023-05-24T02:03:06.921305",
     "status": "completed"
    },
    "tags": []
   },
   "source": [
    "#### Analisis Label Positif"
   ]
  },
  {
   "cell_type": "code",
   "execution_count": 17,
   "id": "a0d9e9bc",
   "metadata": {
    "execution": {
     "iopub.execute_input": "2023-05-24T02:03:06.988607Z",
     "iopub.status.busy": "2023-05-24T02:03:06.988209Z",
     "iopub.status.idle": "2023-05-24T02:03:15.599847Z",
     "shell.execute_reply": "2023-05-24T02:03:15.598964Z"
    },
    "papermill": {
     "duration": 8.640711,
     "end_time": "2023-05-24T02:03:15.605927",
     "exception": false,
     "start_time": "2023-05-24T02:03:06.965216",
     "status": "completed"
    },
    "tags": []
   },
   "outputs": [
    {
     "data": {
      "image/png": "[encoded data removed]",
      "text/plain": [
       "<Figure size 640x480 with 1 Axes>"
      ]
     },
     "metadata": {},
     "output_type": "display_data"
    }
   ],
   "source": [
    "wordcloud = WordCloud(stopwords=stopwords, background_color=\"white\").generate(text_positives)\n",
    "\n",
    "plt.imshow(wordcloud, interpolation='bilinear')\n",
    "plt.axis(\"off\")\n",
    "plt.show()"
   ]
  },
  {
   "cell_type": "markdown",
   "id": "06d6ecea",
   "metadata": {
    "papermill": {
     "duration": 0.026276,
     "end_time": "2023-05-24T02:03:15.676432",
     "exception": false,
     "start_time": "2023-05-24T02:03:15.650156",
     "status": "completed"
    },
    "tags": []
   },
   "source": [
    "Berdasarkan wordcloud diatas, Kata yang menjadi sentimen positif adalah course, dan terdapat beberapa kata yang menunjukkan pujian untuk sebuah course di coursera, seperti \"great course\", \"excellent course\", dan \"good course\". Kemudian terdapat beberapa aspek yang dibahas meliputi \"instructor\", \"material\", dan \"assignment\". Hal ini menunjukkan bahwa aspek-aspek tersebut merupakan hal-hal yang menjadi kepuasan bagi customer dalam belajar."
   ]
  },
  {
   "cell_type": "markdown",
   "id": "8e9f30f2",
   "metadata": {
    "papermill": {
     "duration": 0.0251,
     "end_time": "2023-05-24T02:03:15.727902",
     "exception": false,
     "start_time": "2023-05-24T02:03:15.702802",
     "status": "completed"
    },
    "tags": []
   },
   "source": [
    "\n",
    "#### Analisis Label Negatif"
   ]
  },
  {
   "cell_type": "code",
   "execution_count": 18,
   "id": "423c83a5",
   "metadata": {
    "execution": {
     "iopub.execute_input": "2023-05-24T02:03:15.777335Z",
     "iopub.status.busy": "2023-05-24T02:03:15.776386Z",
     "iopub.status.idle": "2023-05-24T02:03:17.174933Z",
     "shell.execute_reply": "2023-05-24T02:03:17.174057Z"
    },
    "papermill": {
     "duration": 1.427335,
     "end_time": "2023-05-24T02:03:17.178929",
     "exception": false,
     "start_time": "2023-05-24T02:03:15.751594",
     "status": "completed"
    },
    "tags": []
   },
   "outputs": [
    {
     "data": {
      "image/png": "[encoded data removed]",
      "text/plain": [
       "<Figure size 640x480 with 1 Axes>"
      ]
     },
     "metadata": {},
     "output_type": "display_data"
    }
   ],
   "source": [
    "# Create stopword list:\n",
    "wordcloud = WordCloud(stopwords=stopwords, background_color=\"white\").generate(text_negatives)\n",
    "\n",
    "plt.imshow(wordcloud, interpolation='bilinear')\n",
    "plt.axis(\"off\")\n",
    "plt.show()"
   ]
  },
  {
   "cell_type": "markdown",
   "id": "7a2c459a",
   "metadata": {
    "papermill": {
     "duration": 0.025788,
     "end_time": "2023-05-24T02:03:17.251971",
     "exception": false,
     "start_time": "2023-05-24T02:03:17.226183",
     "status": "completed"
    },
    "tags": []
   },
   "source": [
    "Berdasarkan wordcloud tersebut, beberapa kata yang muncul adalah kata course, video, assignement, dan lain sebagainya. Ketiga kata ini adalah aspek yang diperhatikan oleh siswa ketika belajar. Kemungkinan besar siswa mempunyai komplain terkait dengan kursus yang dibawakan, assignment yang dikerjakan, serta video materi."
   ]
  },
  {
   "cell_type": "markdown",
   "id": "811d86f5",
   "metadata": {
    "papermill": {
     "duration": 0.025876,
     "end_time": "2023-05-24T02:03:17.304214",
     "exception": false,
     "start_time": "2023-05-24T02:03:17.278338",
     "status": "completed"
    },
    "tags": []
   },
   "source": [
    "#### Analisis Label Neutral"
   ]
  },
  {
   "cell_type": "code",
   "execution_count": 19,
   "id": "ddf1daea",
   "metadata": {
    "execution": {
     "iopub.execute_input": "2023-05-24T02:03:17.357686Z",
     "iopub.status.busy": "2023-05-24T02:03:17.357289Z",
     "iopub.status.idle": "2023-05-24T02:03:18.527814Z",
     "shell.execute_reply": "2023-05-24T02:03:18.526380Z"
    },
    "papermill": {
     "duration": 1.201041,
     "end_time": "2023-05-24T02:03:18.531404",
     "exception": false,
     "start_time": "2023-05-24T02:03:17.330363",
     "status": "completed"
    },
    "tags": []
   },
   "outputs": [
    {
     "data": {
      "image/png": "[encoded data removed]",
      "text/plain": [
       "<Figure size 640x480 with 1 Axes>"
      ]
     },
     "metadata": {},
     "output_type": "display_data"
    }
   ],
   "source": [
    "# Create stopword list:\n",
    "wordcloud = WordCloud(stopwords=stopwords, background_color=\"white\").generate(text_neutrals)\n",
    "\n",
    "plt.imshow(wordcloud, interpolation='bilinear')\n",
    "plt.axis(\"off\")\n",
    "plt.show()"
   ]
  },
  {
   "cell_type": "markdown",
   "id": "4f4f68f1",
   "metadata": {
    "id": "4ho6TpFx1wju",
    "papermill": {
     "duration": 0.028373,
     "end_time": "2023-05-24T02:03:18.605930",
     "exception": false,
     "start_time": "2023-05-24T02:03:18.577557",
     "status": "completed"
    },
    "tags": []
   },
   "source": [
    "### Checking Sentence Length\n",
    "Pada bagian ini, akan dilakukan pengecekan panjang kalimat dengan menghitung jumlah kata per kalimat."
   ]
  },
  {
   "cell_type": "code",
   "execution_count": 20,
   "id": "a249c358",
   "metadata": {
    "execution": {
     "iopub.execute_input": "2023-05-24T02:03:18.663914Z",
     "iopub.status.busy": "2023-05-24T02:03:18.663559Z",
     "iopub.status.idle": "2023-05-24T02:03:59.397609Z",
     "shell.execute_reply": "2023-05-24T02:03:59.396665Z"
    },
    "id": "LFTqwtur1wjy",
    "papermill": {
     "duration": 40.766206,
     "end_time": "2023-05-24T02:03:59.400295",
     "exception": false,
     "start_time": "2023-05-24T02:03:18.634089",
     "status": "completed"
    },
    "tags": []
   },
   "outputs": [],
   "source": [
    "# check len sentence\n",
    "from nltk.tokenize import word_tokenize\n",
    "\n",
    "df['length_sen'] = df['preprocessed_review'].apply(lambda x : len(word_tokenize(x)))"
   ]
  },
  {
   "cell_type": "markdown",
   "id": "d5c9b1c8",
   "metadata": {
    "id": "MQz9GOVZ1wj0",
    "papermill": {
     "duration": 0.028009,
     "end_time": "2023-05-24T02:03:59.456575",
     "exception": false,
     "start_time": "2023-05-24T02:03:59.428566",
     "status": "completed"
    },
    "tags": []
   },
   "source": [
    "Berikut ini adalah maksimal panjang kalimat dari dataset tersebut."
   ]
  },
  {
   "cell_type": "code",
   "execution_count": 21,
   "id": "8d0aac02",
   "metadata": {
    "execution": {
     "iopub.execute_input": "2023-05-24T02:03:59.515597Z",
     "iopub.status.busy": "2023-05-24T02:03:59.515186Z",
     "iopub.status.idle": "2023-05-24T02:03:59.545716Z",
     "shell.execute_reply": "2023-05-24T02:03:59.544766Z"
    },
    "id": "76F7uKta1wj3",
    "outputId": "932d0147-aee6-41eb-dc74-ee9ff7279e8f",
    "papermill": {
     "duration": 0.061869,
     "end_time": "2023-05-24T02:03:59.548063",
     "exception": false,
     "start_time": "2023-05-24T02:03:59.486194",
     "status": "completed"
    },
    "tags": []
   },
   "outputs": [
    {
     "name": "stdout",
     "output_type": "stream",
     "text": [
      "Max Length :  1460\n"
     ]
    }
   ],
   "source": [
    "# max length\n",
    "max_len = max(df['length_sen'])\n",
    "print(\"Max Length : \", max(df['length_sen']))"
   ]
  },
  {
   "cell_type": "markdown",
   "id": "9a688e39",
   "metadata": {
    "papermill": {
     "duration": 0.027915,
     "end_time": "2023-05-24T02:03:59.604275",
     "exception": false,
     "start_time": "2023-05-24T02:03:59.576360",
     "status": "completed"
    },
    "tags": []
   },
   "source": [
    "Maksimal panjang kalimat adalah 1460 kata."
   ]
  },
  {
   "cell_type": "markdown",
   "id": "56c2d210",
   "metadata": {
    "papermill": {
     "duration": 0.027594,
     "end_time": "2023-05-24T02:03:59.660054",
     "exception": false,
     "start_time": "2023-05-24T02:03:59.632460",
     "status": "completed"
    },
    "tags": []
   },
   "source": [
    "## BERT (Bidirectional Encoder Representations from Transformers)\n",
    "- Tambah penjelasan bert model --> dibaliknya apa, basic algoritma\n",
    "- penjelasan framework pytorch\n",
    "\n",
    "- Sumber : https://arxiv.org/pdf/1810.04805.pdf, https://huggingface.co/\n",
    "\n",
    "Distilbert\n",
    "- Sumber : https://arxiv.org/abs/1910.01108.pdf"
   ]
  },
  {
   "cell_type": "markdown",
   "id": "500fa64d",
   "metadata": {
    "id": "-7LPCo_F1wj9",
    "papermill": {
     "duration": 0.027677,
     "end_time": "2023-05-24T02:03:59.715590",
     "exception": false,
     "start_time": "2023-05-24T02:03:59.687913",
     "status": "completed"
    },
    "tags": []
   },
   "source": [
    "### Label Encoder"
   ]
  },
  {
   "cell_type": "code",
   "execution_count": 22,
   "id": "9528cd8b",
   "metadata": {
    "execution": {
     "iopub.execute_input": "2023-05-24T02:03:59.772614Z",
     "iopub.status.busy": "2023-05-24T02:03:59.771573Z",
     "iopub.status.idle": "2023-05-24T02:03:59.788480Z",
     "shell.execute_reply": "2023-05-24T02:03:59.787652Z"
    },
    "papermill": {
     "duration": 0.047593,
     "end_time": "2023-05-24T02:03:59.790472",
     "exception": false,
     "start_time": "2023-05-24T02:03:59.742879",
     "status": "completed"
    },
    "tags": []
   },
   "outputs": [],
   "source": [
    "df['sent_lab'] = df['Sentiment'].astype(\"category\")\n",
    "df['sent_lab'] = df['sent_lab'].cat.rename_categories(\n",
    "    {\n",
    "        \"negative\" : 0,\n",
    "        \"neutral\" : 1,\n",
    "        \"positive\" : 2\n",
    "    }\n",
    ")"
   ]
  },
  {
   "cell_type": "markdown",
   "id": "71acbc20",
   "metadata": {
    "papermill": {
     "duration": 0.027479,
     "end_time": "2023-05-24T02:03:59.846970",
     "exception": false,
     "start_time": "2023-05-24T02:03:59.819491",
     "status": "completed"
    },
    "tags": []
   },
   "source": [
    "### Cross Validation"
   ]
  },
  {
   "cell_type": "code",
   "execution_count": 23,
   "id": "3968f91b",
   "metadata": {
    "execution": {
     "iopub.execute_input": "2023-05-24T02:03:59.932631Z",
     "iopub.status.busy": "2023-05-24T02:03:59.932107Z",
     "iopub.status.idle": "2023-05-24T02:04:00.139219Z",
     "shell.execute_reply": "2023-05-24T02:04:00.138257Z"
    },
    "id": "BRH1THCv1wj9",
    "papermill": {
     "duration": 0.260011,
     "end_time": "2023-05-24T02:04:00.141649",
     "exception": false,
     "start_time": "2023-05-24T02:03:59.881638",
     "status": "completed"
    },
    "tags": []
   },
   "outputs": [],
   "source": [
    "import numpy as np\n",
    "from sklearn.model_selection import train_test_split\n",
    "\n",
    "X_train, X_test, y_train, y_test = train_test_split(df[\"preprocessed_review\"], df[\"sent_lab\"], test_size=0.2, random_state=42, stratify = df[\"Sentiment\"])\n",
    "X_val, X_test, y_val, y_test = train_test_split(X_test, y_test, test_size=0.5, random_state=42, stratify = y_test)"
   ]
  },
  {
   "cell_type": "code",
   "execution_count": 24,
   "id": "7be92c2b",
   "metadata": {
    "execution": {
     "iopub.execute_input": "2023-05-24T02:04:00.200891Z",
     "iopub.status.busy": "2023-05-24T02:04:00.199188Z",
     "iopub.status.idle": "2023-05-24T02:04:00.206685Z",
     "shell.execute_reply": "2023-05-24T02:04:00.205838Z"
    },
    "id": "5y5KBMQ1Ccfd",
    "outputId": "fb838a4f-f2d6-4ce3-b159-aa1dfbfb76aa",
    "papermill": {
     "duration": 0.03889,
     "end_time": "2023-05-24T02:04:00.208697",
     "exception": false,
     "start_time": "2023-05-24T02:04:00.169807",
     "status": "completed"
    },
    "tags": []
   },
   "outputs": [
    {
     "name": "stdout",
     "output_type": "stream",
     "text": [
      "(85614,)\n",
      "(10702,)\n",
      "(10702,)\n"
     ]
    }
   ],
   "source": [
    "print(X_train.shape)\n",
    "print(X_test.shape)\n",
    "print(X_val.shape)"
   ]
  },
  {
   "cell_type": "code",
   "execution_count": 25,
   "id": "7abe8a3b",
   "metadata": {
    "execution": {
     "iopub.execute_input": "2023-05-24T02:04:00.267791Z",
     "iopub.status.busy": "2023-05-24T02:04:00.266103Z",
     "iopub.status.idle": "2023-05-24T02:04:00.276669Z",
     "shell.execute_reply": "2023-05-24T02:04:00.275715Z"
    },
    "id": "t_knlgPGCiYN",
    "outputId": "089e9250-f61d-4702-eaef-b4f4551793e9",
    "papermill": {
     "duration": 0.042338,
     "end_time": "2023-05-24T02:04:00.278725",
     "exception": false,
     "start_time": "2023-05-24T02:04:00.236387",
     "status": "completed"
    },
    "tags": []
   },
   "outputs": [
    {
     "data": {
      "text/plain": [
       "2    77781\n",
       "1     4057\n",
       "0     3776\n",
       "Name: sent_lab, dtype: int64"
      ]
     },
     "execution_count": 25,
     "metadata": {},
     "output_type": "execute_result"
    }
   ],
   "source": [
    "y_train.value_counts()"
   ]
  },
  {
   "cell_type": "code",
   "execution_count": 26,
   "id": "6882c0e9",
   "metadata": {
    "execution": {
     "iopub.execute_input": "2023-05-24T02:04:00.336385Z",
     "iopub.status.busy": "2023-05-24T02:04:00.335636Z",
     "iopub.status.idle": "2023-05-24T02:04:00.343990Z",
     "shell.execute_reply": "2023-05-24T02:04:00.343027Z"
    },
    "id": "ag_vy_KdCnni",
    "outputId": "375a83e9-d774-4aee-dac6-07b8bce4e80e",
    "papermill": {
     "duration": 0.039678,
     "end_time": "2023-05-24T02:04:00.346307",
     "exception": false,
     "start_time": "2023-05-24T02:04:00.306629",
     "status": "completed"
    },
    "tags": []
   },
   "outputs": [
    {
     "data": {
      "text/plain": [
       "2    9723\n",
       "1     507\n",
       "0     472\n",
       "Name: sent_lab, dtype: int64"
      ]
     },
     "execution_count": 26,
     "metadata": {},
     "output_type": "execute_result"
    }
   ],
   "source": [
    "y_test.value_counts()"
   ]
  },
  {
   "cell_type": "code",
   "execution_count": 27,
   "id": "1635ade3",
   "metadata": {
    "execution": {
     "iopub.execute_input": "2023-05-24T02:04:00.404192Z",
     "iopub.status.busy": "2023-05-24T02:04:00.403850Z",
     "iopub.status.idle": "2023-05-24T02:04:00.411934Z",
     "shell.execute_reply": "2023-05-24T02:04:00.411056Z"
    },
    "id": "f-mWy4_iq_PU",
    "outputId": "10b82713-a8f0-4cc4-f1f2-5fa9912706cf",
    "papermill": {
     "duration": 0.039471,
     "end_time": "2023-05-24T02:04:00.414045",
     "exception": false,
     "start_time": "2023-05-24T02:04:00.374574",
     "status": "completed"
    },
    "tags": []
   },
   "outputs": [
    {
     "data": {
      "text/plain": [
       "2    9723\n",
       "1     507\n",
       "0     472\n",
       "Name: sent_lab, dtype: int64"
      ]
     },
     "execution_count": 27,
     "metadata": {},
     "output_type": "execute_result"
    }
   ],
   "source": [
    "y_val.value_counts()"
   ]
  },
  {
   "cell_type": "markdown",
   "id": "3daec26d",
   "metadata": {
    "id": "BgfXOVv3CXET",
    "papermill": {
     "duration": 0.028849,
     "end_time": "2023-05-24T02:04:00.472539",
     "exception": false,
     "start_time": "2023-05-24T02:04:00.443690",
     "status": "completed"
    },
    "tags": []
   },
   "source": [
    "### Build DistilBert Transfer Learning\n",
    "Untuk melakukan transfer learning, kita perlu mendownload model pretrained dari huggingface. Selain itu kita memerlukan tokenizer."
   ]
  },
  {
   "cell_type": "code",
   "execution_count": 28,
   "id": "26e35540",
   "metadata": {
    "execution": {
     "iopub.execute_input": "2023-05-24T02:04:00.533706Z",
     "iopub.status.busy": "2023-05-24T02:04:00.531961Z",
     "iopub.status.idle": "2023-05-24T02:04:04.057234Z",
     "shell.execute_reply": "2023-05-24T02:04:04.056239Z"
    },
    "id": "0DaRUDivCZIE",
    "outputId": "92283809-5af4-4747-ad1e-3dc9fdd594fd",
    "papermill": {
     "duration": 3.55809,
     "end_time": "2023-05-24T02:04:04.059419",
     "exception": false,
     "start_time": "2023-05-24T02:04:00.501329",
     "status": "completed"
    },
    "tags": []
   },
   "outputs": [
    {
     "data": {
      "application/vnd.jupyter.widget-view+json": {
       "model_id": "c1fa96b3bd3d40cc9d3a6e221ec969b3",
       "version_major": 2,
       "version_minor": 0
      },
      "text/plain": [
       "Downloading (…)solve/main/vocab.txt:   0%|          | 0.00/232k [00:00<?, ?B/s]"
      ]
     },
     "metadata": {},
     "output_type": "display_data"
    },
    {
     "data": {
      "application/vnd.jupyter.widget-view+json": {
       "model_id": "b6000c29653441fbb32b6c312cdb7797",
       "version_major": 2,
       "version_minor": 0
      },
      "text/plain": [
       "Downloading (…)okenizer_config.json:   0%|          | 0.00/28.0 [00:00<?, ?B/s]"
      ]
     },
     "metadata": {},
     "output_type": "display_data"
    },
    {
     "data": {
      "application/vnd.jupyter.widget-view+json": {
       "model_id": "60bd9a373d3343939ea7f4afecd25469",
       "version_major": 2,
       "version_minor": 0
      },
      "text/plain": [
       "Downloading (…)lve/main/config.json:   0%|          | 0.00/483 [00:00<?, ?B/s]"
      ]
     },
     "metadata": {},
     "output_type": "display_data"
    },
    {
     "data": {
      "application/vnd.jupyter.widget-view+json": {
       "model_id": "f67fb0f0a55e431e9f9a3ecfad0d9e35",
       "version_major": 2,
       "version_minor": 0
      },
      "text/plain": [
       "Downloading pytorch_model.bin:   0%|          | 0.00/268M [00:00<?, ?B/s]"
      ]
     },
     "metadata": {},
     "output_type": "display_data"
    },
    {
     "name": "stderr",
     "output_type": "stream",
     "text": [
      "Some weights of the model checkpoint at distilbert-base-uncased were not used when initializing DistilBertModel: ['vocab_layer_norm.weight', 'vocab_transform.bias', 'vocab_transform.weight', 'vocab_projector.weight', 'vocab_layer_norm.bias', 'vocab_projector.bias']\n",
      "- This IS expected if you are initializing DistilBertModel from the checkpoint of a model trained on another task or with another architecture (e.g. initializing a BertForSequenceClassification model from a BertForPreTraining model).\n",
      "- This IS NOT expected if you are initializing DistilBertModel from the checkpoint of a model that you expect to be exactly identical (initializing a BertForSequenceClassification model from a BertForSequenceClassification model).\n"
     ]
    }
   ],
   "source": [
    "#import bert tokenizer, pilih yang multilingual karena lebih dari 1 bahasa\n",
    "\n",
    "tokenizer = DistilBertTokenizer.from_pretrained('distilbert-base-uncased')\n",
    "model = DistilBertModel.from_pretrained('distilbert-base-uncased')"
   ]
  },
  {
   "cell_type": "markdown",
   "id": "071a5fc8",
   "metadata": {
    "papermill": {
     "duration": 0.029844,
     "end_time": "2023-05-24T02:04:04.119991",
     "exception": false,
     "start_time": "2023-05-24T02:04:04.090147",
     "status": "completed"
    },
    "tags": []
   },
   "source": [
    "### Tokenizer"
   ]
  },
  {
   "cell_type": "code",
   "execution_count": 29,
   "id": "e186b28d",
   "metadata": {
    "execution": {
     "iopub.execute_input": "2023-05-24T02:04:04.185137Z",
     "iopub.status.busy": "2023-05-24T02:04:04.184765Z",
     "iopub.status.idle": "2023-05-24T02:04:04.194104Z",
     "shell.execute_reply": "2023-05-24T02:04:04.192804Z"
    },
    "papermill": {
     "duration": 0.044742,
     "end_time": "2023-05-24T02:04:04.196777",
     "exception": false,
     "start_time": "2023-05-24T02:04:04.152035",
     "status": "completed"
    },
    "tags": []
   },
   "outputs": [
    {
     "name": "stdout",
     "output_type": "stream",
     "text": [
      "[101, 2204, 1998, 5875, 102]\n",
      "['[CLS]', 'good', 'and', 'interesting', '[SEP]']\n"
     ]
    }
   ],
   "source": [
    "enc = tokenizer.encode(X_train[0])\n",
    "print(enc)\n",
    "print(tokenizer.convert_ids_to_tokens(enc))"
   ]
  },
  {
   "cell_type": "markdown",
   "id": "795c96a0",
   "metadata": {
    "id": "sbTPjLDvPjd1",
    "papermill": {
     "duration": 0.031327,
     "end_time": "2023-05-24T02:04:04.258372",
     "exception": false,
     "start_time": "2023-05-24T02:04:04.227045",
     "status": "completed"
    },
    "tags": []
   },
   "source": [
    "### Data Loader"
   ]
  },
  {
   "cell_type": "code",
   "execution_count": 30,
   "id": "79877e47",
   "metadata": {
    "execution": {
     "iopub.execute_input": "2023-05-24T02:04:04.328036Z",
     "iopub.status.busy": "2023-05-24T02:04:04.326135Z",
     "iopub.status.idle": "2023-05-24T02:04:04.336041Z",
     "shell.execute_reply": "2023-05-24T02:04:04.335030Z"
    },
    "id": "ux7wzfLvPea2",
    "papermill": {
     "duration": 0.047123,
     "end_time": "2023-05-24T02:04:04.338292",
     "exception": false,
     "start_time": "2023-05-24T02:04:04.291169",
     "status": "completed"
    },
    "tags": []
   },
   "outputs": [],
   "source": [
    "#fungsi untuk loading dataset\n",
    "from torch.utils.data import Dataset\n",
    "\n",
    "class ReviewDataset(Dataset):\n",
    "  def __init__(self, reviews, labels, max_len, tokenizer):\n",
    "    self.reviews = reviews.reset_index()[\"preprocessed_review\"]\n",
    "    self.labels = labels.reset_index()[\"sent_lab\"]\n",
    "    self.max_len = max_len\n",
    "    self.tokenizer = tokenizer\n",
    "\n",
    "  def __len__(self):\n",
    "    return len(self.labels)\n",
    "  \n",
    "  def __getitem__(self, idx):\n",
    "    reviews = self.reviews[idx]\n",
    "    labels = self.labels[idx]\n",
    "\n",
    "    encoding = self.tokenizer.encode_plus(\n",
    "      reviews,                      \n",
    "      add_special_tokens=True,    \n",
    "      max_length=self.max_len,    \n",
    "      padding='max_length',     \n",
    "      truncation=True,            \n",
    "      return_attention_mask=True, \n",
    "      return_tensors='pt'         \n",
    "    )\n",
    "\n",
    "    return {\n",
    "        'review': reviews,\n",
    "        'input_ids': encoding['input_ids'].flatten(),\n",
    "        'attention_mask': encoding['attention_mask'].flatten(),\n",
    "        'label': torch.tensor(labels, dtype=torch.long)\n",
    "    }"
   ]
  },
  {
   "cell_type": "code",
   "execution_count": 31,
   "id": "2cf9e170",
   "metadata": {
    "execution": {
     "iopub.execute_input": "2023-05-24T02:04:04.405445Z",
     "iopub.status.busy": "2023-05-24T02:04:04.404559Z",
     "iopub.status.idle": "2023-05-24T02:04:04.417026Z",
     "shell.execute_reply": "2023-05-24T02:04:04.416077Z"
    },
    "id": "iPYh8-7Cf65e",
    "papermill": {
     "duration": 0.049104,
     "end_time": "2023-05-24T02:04:04.419359",
     "exception": false,
     "start_time": "2023-05-24T02:04:04.370255",
     "status": "completed"
    },
    "tags": []
   },
   "outputs": [],
   "source": [
    "#512 adalah maxnya bert\n",
    "train_data = ReviewDataset(X_train,y_train, 512, tokenizer)\n",
    "val_data = ReviewDataset(X_val,y_val, 512, tokenizer)\n",
    "test_data = ReviewDataset(X_test,y_test, 512, tokenizer)"
   ]
  },
  {
   "cell_type": "code",
   "execution_count": 32,
   "id": "2d55c1bf",
   "metadata": {
    "execution": {
     "iopub.execute_input": "2023-05-24T02:04:04.488813Z",
     "iopub.status.busy": "2023-05-24T02:04:04.487761Z",
     "iopub.status.idle": "2023-05-24T02:04:04.494554Z",
     "shell.execute_reply": "2023-05-24T02:04:04.493699Z"
    },
    "id": "4HKtUo9Wh5TJ",
    "papermill": {
     "duration": 0.046097,
     "end_time": "2023-05-24T02:04:04.496763",
     "exception": false,
     "start_time": "2023-05-24T02:04:04.450666",
     "status": "completed"
    },
    "tags": []
   },
   "outputs": [],
   "source": [
    "# pemilihan batch size berasal dari paper https://arxiv.org/pdf/1810.04805.pdf\n",
    "from torch.utils.data import DataLoader\n",
    "\n",
    "train_dataloader = DataLoader(train_data, batch_size=32, shuffle=True)\n",
    "val_dataloader = DataLoader(val_data, batch_size=32, shuffle=True)\n",
    "test_dataloader = DataLoader(test_data, batch_size=32, shuffle=True)"
   ]
  },
  {
   "cell_type": "markdown",
   "id": "b2226afc",
   "metadata": {
    "id": "gPhfd5ZNqQa3",
    "papermill": {
     "duration": 0.029392,
     "end_time": "2023-05-24T02:04:04.555562",
     "exception": false,
     "start_time": "2023-05-24T02:04:04.526170",
     "status": "completed"
    },
    "tags": []
   },
   "source": [
    "### DistilBert Transfer Learning"
   ]
  },
  {
   "cell_type": "code",
   "execution_count": 33,
   "id": "c9ac9084",
   "metadata": {
    "execution": {
     "iopub.execute_input": "2023-05-24T02:04:04.657893Z",
     "iopub.status.busy": "2023-05-24T02:04:04.657323Z",
     "iopub.status.idle": "2023-05-24T02:04:04.669189Z",
     "shell.execute_reply": "2023-05-24T02:04:04.668112Z"
    },
    "id": "t3UaEB9wqZdb",
    "papermill": {
     "duration": 0.07133,
     "end_time": "2023-05-24T02:04:04.671287",
     "exception": false,
     "start_time": "2023-05-24T02:04:04.599957",
     "status": "completed"
    },
    "tags": []
   },
   "outputs": [],
   "source": [
    "from torch import nn\n",
    "class Bert_TL(nn.Module):\n",
    "  def __init__(self,bert):\n",
    "    super(Bert_TL, self).__init__()\n",
    "    self.bert = bert\n",
    "    self.fc1 = nn.Linear(768,512)\n",
    "    self.relu = nn.ReLU()\n",
    "    self.fc2 = nn.Linear(512,3)\n",
    "  \n",
    "  def forward(self, input_ids, attention_mask):\n",
    "    hidden = self.bert(input_ids = input_ids, attention_mask = attention_mask)\n",
    "    x = self.fc1(hidden[0][:, 0, :])\n",
    "    x = self.relu(x)\n",
    "    x = self.fc2(x)\n",
    "    \n",
    "    return x"
   ]
  },
  {
   "cell_type": "code",
   "execution_count": 34,
   "id": "0672d36c",
   "metadata": {
    "execution": {
     "iopub.execute_input": "2023-05-24T02:04:04.732211Z",
     "iopub.status.busy": "2023-05-24T02:04:04.731328Z",
     "iopub.status.idle": "2023-05-24T02:04:10.089233Z",
     "shell.execute_reply": "2023-05-24T02:04:10.088241Z"
    },
    "id": "NMADSNPZq7s2",
    "outputId": "05765314-5d78-4b8b-eb6f-8d4090505c69",
    "papermill": {
     "duration": 5.391636,
     "end_time": "2023-05-24T02:04:10.092384",
     "exception": false,
     "start_time": "2023-05-24T02:04:04.700748",
     "status": "completed"
    },
    "tags": []
   },
   "outputs": [
    {
     "data": {
      "text/plain": [
       "Bert_TL(\n",
       "  (bert): DistilBertModel(\n",
       "    (embeddings): Embeddings(\n",
       "      (word_embeddings): Embedding(30522, 768, padding_idx=0)\n",
       "      (position_embeddings): Embedding(512, 768)\n",
       "      (LayerNorm): LayerNorm((768,), eps=1e-12, elementwise_affine=True)\n",
       "      (dropout): Dropout(p=0.1, inplace=False)\n",
       "    )\n",
       "    (transformer): Transformer(\n",
       "      (layer): ModuleList(\n",
       "        (0-5): 6 x TransformerBlock(\n",
       "          (attention): MultiHeadSelfAttention(\n",
       "            (dropout): Dropout(p=0.1, inplace=False)\n",
       "            (q_lin): Linear(in_features=768, out_features=768, bias=True)\n",
       "            (k_lin): Linear(in_features=768, out_features=768, bias=True)\n",
       "            (v_lin): Linear(in_features=768, out_features=768, bias=True)\n",
       "            (out_lin): Linear(in_features=768, out_features=768, bias=True)\n",
       "          )\n",
       "          (sa_layer_norm): LayerNorm((768,), eps=1e-12, elementwise_affine=True)\n",
       "          (ffn): FFN(\n",
       "            (dropout): Dropout(p=0.1, inplace=False)\n",
       "            (lin1): Linear(in_features=768, out_features=3072, bias=True)\n",
       "            (lin2): Linear(in_features=3072, out_features=768, bias=True)\n",
       "            (activation): GELUActivation()\n",
       "          )\n",
       "          (output_layer_norm): LayerNorm((768,), eps=1e-12, elementwise_affine=True)\n",
       "        )\n",
       "      )\n",
       "    )\n",
       "  )\n",
       "  (fc1): Linear(in_features=768, out_features=512, bias=True)\n",
       "  (relu): ReLU()\n",
       "  (fc2): Linear(in_features=512, out_features=3, bias=True)\n",
       ")"
      ]
     },
     "execution_count": 34,
     "metadata": {},
     "output_type": "execute_result"
    }
   ],
   "source": [
    "model = Bert_TL(model)\n",
    "model.to(device)"
   ]
  },
  {
   "cell_type": "markdown",
   "id": "fc81303a",
   "metadata": {
    "papermill": {
     "duration": 0.056772,
     "end_time": "2023-05-24T02:04:10.203834",
     "exception": false,
     "start_time": "2023-05-24T02:04:10.147062",
     "status": "completed"
    },
    "tags": []
   },
   "source": [
    "Kemudian, kita akan mencoba untuk freeze weight pada model tersebut"
   ]
  },
  {
   "cell_type": "code",
   "execution_count": 35,
   "id": "8362e64c",
   "metadata": {
    "execution": {
     "iopub.execute_input": "2023-05-24T02:04:10.303730Z",
     "iopub.status.busy": "2023-05-24T02:04:10.303343Z",
     "iopub.status.idle": "2023-05-24T02:04:10.308736Z",
     "shell.execute_reply": "2023-05-24T02:04:10.307733Z"
    },
    "papermill": {
     "duration": 0.049249,
     "end_time": "2023-05-24T02:04:10.311035",
     "exception": false,
     "start_time": "2023-05-24T02:04:10.261786",
     "status": "completed"
    },
    "tags": []
   },
   "outputs": [],
   "source": [
    "for param in model.bert.parameters():\n",
    "    param.requires_grad = False"
   ]
  },
  {
   "cell_type": "markdown",
   "id": "3e80af70",
   "metadata": {
    "papermill": {
     "duration": 0.030017,
     "end_time": "2023-05-24T02:04:10.373258",
     "exception": false,
     "start_time": "2023-05-24T02:04:10.343241",
     "status": "completed"
    },
    "tags": []
   },
   "source": [
    "### Penanganan kelas imbalance"
   ]
  },
  {
   "cell_type": "code",
   "execution_count": 36,
   "id": "8df343b4",
   "metadata": {
    "execution": {
     "iopub.execute_input": "2023-05-24T02:04:10.435878Z",
     "iopub.status.busy": "2023-05-24T02:04:10.434091Z",
     "iopub.status.idle": "2023-05-24T02:04:10.456492Z",
     "shell.execute_reply": "2023-05-24T02:04:10.455131Z"
    },
    "id": "Rz2jJgtV3K87",
    "papermill": {
     "duration": 0.055804,
     "end_time": "2023-05-24T02:04:10.458819",
     "exception": false,
     "start_time": "2023-05-24T02:04:10.403015",
     "status": "completed"
    },
    "tags": []
   },
   "outputs": [
    {
     "name": "stdout",
     "output_type": "stream",
     "text": [
      "Class Weights: [7.55773305 7.03426177 0.36690194]\n",
      "[0 1 2]\n"
     ]
    }
   ],
   "source": [
    "from sklearn.utils.class_weight import compute_class_weight\n",
    "\n",
    "#compute the class weights\n",
    "class_weights = compute_class_weight(class_weight = 'balanced', \n",
    "                                     classes = np.unique(y_train), \n",
    "                                     y = y_train)\n",
    "\n",
    "class_weights_t = torch.tensor(class_weights, dtype=torch.float)\n",
    "\n",
    "class_weights_t = class_weights_t.to(device)\n",
    "\n",
    "print(\"Class Weights:\",class_weights)\n",
    "print(np.unique(y_train))"
   ]
  },
  {
   "cell_type": "markdown",
   "id": "fbe67f2d",
   "metadata": {
    "papermill": {
     "duration": 0.029517,
     "end_time": "2023-05-24T02:04:10.521463",
     "exception": false,
     "start_time": "2023-05-24T02:04:10.491946",
     "status": "completed"
    },
    "tags": []
   },
   "source": [
    "### Inisiasi Hyperparameter\n",
    "Pemilihan parameter berasal dari paper https://arxiv.org/pdf/1810.04805.pdf"
   ]
  },
  {
   "cell_type": "code",
   "execution_count": 37,
   "id": "b3f2a830",
   "metadata": {
    "execution": {
     "iopub.execute_input": "2023-05-24T02:04:10.583685Z",
     "iopub.status.busy": "2023-05-24T02:04:10.582858Z",
     "iopub.status.idle": "2023-05-24T02:04:10.589002Z",
     "shell.execute_reply": "2023-05-24T02:04:10.587997Z"
    },
    "id": "3dO0UEzmD5du",
    "papermill": {
     "duration": 0.03921,
     "end_time": "2023-05-24T02:04:10.591003",
     "exception": false,
     "start_time": "2023-05-24T02:04:10.551793",
     "status": "completed"
    },
    "tags": []
   },
   "outputs": [],
   "source": [
    "# Inisiasi hyperparameter\n",
    "learning_rate = 5e-5\n",
    "\n",
    "#inisiasi loss function\n",
    "loss_fn =nn.CrossEntropyLoss(weight=class_weights_t).to(device)\n",
    "optimizer = Adam(model.parameters(), lr=learning_rate)"
   ]
  },
  {
   "cell_type": "markdown",
   "id": "24599db5",
   "metadata": {
    "papermill": {
     "duration": 0.029641,
     "end_time": "2023-05-24T02:04:10.650699",
     "exception": false,
     "start_time": "2023-05-24T02:04:10.621058",
     "status": "completed"
    },
    "tags": []
   },
   "source": [
    "### Fungsi Train dan Evaluasi"
   ]
  },
  {
   "cell_type": "code",
   "execution_count": 38,
   "id": "96e4dc2b",
   "metadata": {
    "execution": {
     "iopub.execute_input": "2023-05-24T02:04:10.711930Z",
     "iopub.status.busy": "2023-05-24T02:04:10.711593Z",
     "iopub.status.idle": "2023-05-24T02:04:10.723101Z",
     "shell.execute_reply": "2023-05-24T02:04:10.722182Z"
    },
    "id": "nLDUnQI81ADw",
    "papermill": {
     "duration": 0.044709,
     "end_time": "2023-05-24T02:04:10.725112",
     "exception": false,
     "start_time": "2023-05-24T02:04:10.680403",
     "status": "completed"
    },
    "tags": []
   },
   "outputs": [],
   "source": [
    "def train_loop(\n",
    "  data_loader, \n",
    "  model, \n",
    "  loss_fn, \n",
    "  optimizer, \n",
    "  device, \n",
    "  n_examples\n",
    "):\n",
    "  #menandakan bahwa model sedang dilatih\n",
    "  model = model.train()\n",
    "\n",
    "  losses = []\n",
    "  correct_predictions = 0\n",
    "  \n",
    "  #iterasi di setiap data\n",
    "  for d in data_loader:\n",
    "\n",
    "    #mengambil input id, attention mask, dan target dari setiap data\n",
    "    input_ids = d[\"input_ids\"].to(device)\n",
    "    attention_mask = d[\"attention_mask\"].to(device)\n",
    "    targets = d[\"label\"].to(device)\n",
    "\n",
    "    #mengeluarkan output dari data tersebut\n",
    "    outputs = model(\n",
    "      input_ids=input_ids,\n",
    "      attention_mask=attention_mask\n",
    "    )\n",
    "\n",
    "    #mengeluarkan prediksi target\n",
    "    _, preds = torch.max(outputs, dim=1)\n",
    "\n",
    "    #mengeluarkan lossnya\n",
    "    loss = loss_fn(outputs, targets)\n",
    "\n",
    "    #menjumlahkan prediksi target yang benar\n",
    "    correct_predictions += torch.sum(preds == targets)\n",
    "\n",
    "    #mengumpulkan loss dari output dan target\n",
    "    losses.append(loss.item())\n",
    "\n",
    "    loss.backward()\n",
    "\n",
    "    #untuk menghindari vanishing gradient\n",
    "    nn.utils.clip_grad_norm_(model.parameters(), max_norm=1.0)\n",
    "    optimizer.step()\n",
    "    optimizer.zero_grad()\n",
    "\n",
    "  #mengembalikan akurasi dan rata-rata loss\n",
    "  return correct_predictions.double() / n_examples, np.mean(losses)\n",
    "\n",
    "\n",
    "def test_loop(model, data_loader, loss_fn, device, n_examples):\n",
    "\n",
    "  #menandakan model sedang dievaluasi\n",
    "  model = model.eval()\n",
    "\n",
    "  #array losses dari setiap data dan variabel correct_prediction untuk jumlah prediksi benar\n",
    "  losses = []\n",
    "  correct_predictions = 0\n",
    "\n",
    "  with torch.no_grad():\n",
    "    for d in data_loader:\n",
    "      #mengambil input id, attention mask, dan target dari setiap data\n",
    "      input_ids = d[\"input_ids\"].to(device)\n",
    "      attention_mask = d[\"attention_mask\"].to(device)\n",
    "      targets = d[\"label\"].to(device)\n",
    "\n",
    "      #mengambil output dari data\n",
    "      outputs = model(\n",
    "        input_ids=input_ids,\n",
    "        attention_mask=attention_mask\n",
    "      )\n",
    "\n",
    "      #mengambil kelas prediksi\n",
    "      _, preds = torch.max(outputs, dim=1)\n",
    "      \n",
    "      #mengeluarkan loss dari output dan targets\n",
    "      loss = loss_fn(outputs, targets)\n",
    "\n",
    "      #menjumlahkan prediksi yang benar\n",
    "      correct_predictions += torch.sum(preds == targets)\n",
    "      losses.append(loss.item())\n",
    "\n",
    "  #mengembalikan akurasi dan rata-rata loss\n",
    "  return correct_predictions.double() / n_examples, np.mean(losses)"
   ]
  },
  {
   "cell_type": "markdown",
   "id": "bbfba43c",
   "metadata": {
    "papermill": {
     "duration": 0.02951,
     "end_time": "2023-05-24T02:04:10.784722",
     "exception": false,
     "start_time": "2023-05-24T02:04:10.755212",
     "status": "completed"
    },
    "tags": []
   },
   "source": [
    "### Pelatihan DistilBERT"
   ]
  },
  {
   "cell_type": "code",
   "execution_count": 39,
   "id": "c7357b1b",
   "metadata": {
    "execution": {
     "iopub.execute_input": "2023-05-24T02:04:10.846171Z",
     "iopub.status.busy": "2023-05-24T02:04:10.845063Z",
     "iopub.status.idle": "2023-05-24T04:15:09.915097Z",
     "shell.execute_reply": "2023-05-24T04:15:09.911868Z"
    },
    "id": "9-bp8ob13hw_",
    "papermill": {
     "duration": 7859.132948,
     "end_time": "2023-05-24T04:15:09.947231",
     "exception": false,
     "start_time": "2023-05-24T02:04:10.814283",
     "status": "completed"
    },
    "tags": []
   },
   "outputs": [
    {
     "name": "stdout",
     "output_type": "stream",
     "text": [
      "Epoch 1\n",
      "-------------------------------\n",
      "Train loss 0.7268248797019857 accuracy 0.835867965519658\n",
      "Val loss 0.64132280207392 accuracy 0.8250794244066529\n",
      "Done!\n",
      "Epoch 2\n",
      "-------------------------------\n",
      "Train loss 0.6443702003713948 accuracy 0.8406452215759105\n",
      "Val loss 0.6173737107817806 accuracy 0.8410577462156607\n",
      "Done!\n",
      "Epoch 3\n",
      "-------------------------------\n",
      "Train loss 0.6328534317914235 accuracy 0.8427710421192796\n",
      "Val loss 0.6212687474355769 accuracy 0.8699308540459727\n",
      "Done!\n",
      "Epoch 4\n",
      "-------------------------------\n",
      "Train loss 0.6275692850752261 accuracy 0.8446632560095312\n",
      "Val loss 0.6075658143678708 accuracy 0.8429265557839656\n",
      "Done!\n"
     ]
    }
   ],
   "source": [
    "epochs = 4\n",
    "for t in range(epochs):\n",
    "    print(f\"Epoch {t+1}\\n-------------------------------\")\n",
    "    train_acc, train_loss = train_loop(train_dataloader, model, loss_fn, optimizer,device,len(X_train))\n",
    "    val_acc, val_loss = test_loop(\n",
    "      model,\n",
    "      val_dataloader,\n",
    "      loss_fn, \n",
    "      device, \n",
    "      len(X_val)\n",
    "    )\n",
    "\n",
    "    print(f'Train loss {train_loss} accuracy {train_acc}')\n",
    "    print(f'Val loss {val_loss} accuracy {val_acc}')\n",
    "    print(\"Done!\")"
   ]
  },
  {
   "cell_type": "markdown",
   "id": "0db3f92f",
   "metadata": {
    "papermill": {
     "duration": 0.03239,
     "end_time": "2023-05-24T04:15:10.010938",
     "exception": false,
     "start_time": "2023-05-24T04:15:09.978548",
     "status": "completed"
    },
    "tags": []
   },
   "source": [
    "### Prediksi dengan Test Set"
   ]
  },
  {
   "cell_type": "code",
   "execution_count": 40,
   "id": "5b28981c",
   "metadata": {
    "execution": {
     "iopub.execute_input": "2023-05-24T04:15:10.074325Z",
     "iopub.status.busy": "2023-05-24T04:15:10.073951Z",
     "iopub.status.idle": "2023-05-24T04:15:10.081728Z",
     "shell.execute_reply": "2023-05-24T04:15:10.080780Z"
    },
    "id": "Hm6I1iVPjIe6",
    "papermill": {
     "duration": 0.042208,
     "end_time": "2023-05-24T04:15:10.083875",
     "exception": false,
     "start_time": "2023-05-24T04:15:10.041667",
     "status": "completed"
    },
    "tags": []
   },
   "outputs": [],
   "source": [
    "# prediction with test set\n",
    "import torch.nn.functional as F\n",
    "\n",
    "def get_predictions(model, data_loader):\n",
    "  model = model.eval()\n",
    "  \n",
    "  story_texts = []\n",
    "  predictions = []\n",
    "  real_values = []\n",
    "\n",
    "  with torch.no_grad():\n",
    "    for d in data_loader:\n",
    "\n",
    "      texts = d[\"review\"]\n",
    "      input_ids = d[\"input_ids\"].to(device)\n",
    "      attention_mask = d[\"attention_mask\"].to(device)\n",
    "      targets = d[\"label\"].to(device)\n",
    "\n",
    "      outputs = model(\n",
    "        input_ids=input_ids,\n",
    "        attention_mask=attention_mask\n",
    "      )\n",
    "      _, preds = torch.max(outputs, dim=1)\n",
    "\n",
    "      predictions.extend(preds)\n",
    "      real_values.extend(targets)\n",
    "\n",
    "  predictions = torch.stack(predictions).cpu()\n",
    "  real_values = torch.stack(real_values).cpu()\n",
    "  return predictions, real_values"
   ]
  },
  {
   "cell_type": "code",
   "execution_count": 41,
   "id": "eb541ed1",
   "metadata": {
    "execution": {
     "iopub.execute_input": "2023-05-24T04:15:10.146951Z",
     "iopub.status.busy": "2023-05-24T04:15:10.146055Z",
     "iopub.status.idle": "2023-05-24T04:18:33.463420Z",
     "shell.execute_reply": "2023-05-24T04:18:33.462159Z"
    },
    "papermill": {
     "duration": 203.386138,
     "end_time": "2023-05-24T04:18:33.500896",
     "exception": false,
     "start_time": "2023-05-24T04:15:10.114758",
     "status": "completed"
    },
    "tags": []
   },
   "outputs": [
    {
     "name": "stdout",
     "output_type": "stream",
     "text": [
      "              precision    recall  f1-score   support\n",
      "\n",
      "           0       0.44      0.72      0.55       472\n",
      "           1       0.20      0.58      0.29       507\n",
      "           2       0.99      0.86      0.92      9723\n",
      "\n",
      "    accuracy                           0.84     10702\n",
      "   macro avg       0.54      0.72      0.59     10702\n",
      "weighted avg       0.93      0.84      0.87     10702\n",
      "\n"
     ]
    }
   ],
   "source": [
    "from sklearn.metrics import classification_report\n",
    "y_pred, y_test_lab = get_predictions(model, test_dataloader)\n",
    "\n",
    "print(classification_report(y_test_lab, y_pred))"
   ]
  },
  {
   "cell_type": "markdown",
   "id": "6a794491",
   "metadata": {
    "papermill": {
     "duration": 0.029688,
     "end_time": "2023-05-24T04:18:33.561700",
     "exception": false,
     "start_time": "2023-05-24T04:18:33.532012",
     "status": "completed"
    },
    "tags": []
   },
   "source": [
    "### Save Model"
   ]
  },
  {
   "cell_type": "code",
   "execution_count": 42,
   "id": "079ecdcb",
   "metadata": {
    "execution": {
     "iopub.execute_input": "2023-05-24T04:18:33.624114Z",
     "iopub.status.busy": "2023-05-24T04:18:33.623129Z",
     "iopub.status.idle": "2023-05-24T04:18:34.130065Z",
     "shell.execute_reply": "2023-05-24T04:18:34.128993Z"
    },
    "papermill": {
     "duration": 0.541149,
     "end_time": "2023-05-24T04:18:34.132866",
     "exception": false,
     "start_time": "2023-05-24T04:18:33.591717",
     "status": "completed"
    },
    "tags": []
   },
   "outputs": [],
   "source": [
    "torch.save(model, 'model.pt')"
   ]
  },
  {
   "cell_type": "markdown",
   "id": "7d4338a2",
   "metadata": {
    "papermill": {
     "duration": 0.032222,
     "end_time": "2023-05-24T04:18:34.198272",
     "exception": false,
     "start_time": "2023-05-24T04:18:34.166050",
     "status": "completed"
    },
    "tags": []
   },
   "source": [
    "## Comparison with Bert Based\n",
    "Kita akan mencoba untuk membandingkan DistilBERT dengan BERT biasa. Lakukan beberapa step yang sama dengan DistilBERT."
   ]
  },
  {
   "cell_type": "code",
   "execution_count": 43,
   "id": "7a4964ec",
   "metadata": {
    "execution": {
     "iopub.execute_input": "2023-05-24T04:18:34.262706Z",
     "iopub.status.busy": "2023-05-24T04:18:34.261013Z",
     "iopub.status.idle": "2023-05-24T04:18:41.972414Z",
     "shell.execute_reply": "2023-05-24T04:18:41.971492Z"
    },
    "papermill": {
     "duration": 7.745361,
     "end_time": "2023-05-24T04:18:41.974568",
     "exception": false,
     "start_time": "2023-05-24T04:18:34.229207",
     "status": "completed"
    },
    "tags": []
   },
   "outputs": [
    {
     "data": {
      "application/vnd.jupyter.widget-view+json": {
       "model_id": "6a4d6d87aca84ded96819813dea835d7",
       "version_major": 2,
       "version_minor": 0
      },
      "text/plain": [
       "Downloading (…)solve/main/vocab.txt:   0%|          | 0.00/232k [00:00<?, ?B/s]"
      ]
     },
     "metadata": {},
     "output_type": "display_data"
    },
    {
     "data": {
      "application/vnd.jupyter.widget-view+json": {
       "model_id": "c3f23b4840754bf2bc77df8a115a8876",
       "version_major": 2,
       "version_minor": 0
      },
      "text/plain": [
       "Downloading (…)okenizer_config.json:   0%|          | 0.00/28.0 [00:00<?, ?B/s]"
      ]
     },
     "metadata": {},
     "output_type": "display_data"
    },
    {
     "data": {
      "application/vnd.jupyter.widget-view+json": {
       "model_id": "e05145fac7c54156b7b9b2960f507287",
       "version_major": 2,
       "version_minor": 0
      },
      "text/plain": [
       "Downloading (…)lve/main/config.json:   0%|          | 0.00/570 [00:00<?, ?B/s]"
      ]
     },
     "metadata": {},
     "output_type": "display_data"
    },
    {
     "data": {
      "application/vnd.jupyter.widget-view+json": {
       "model_id": "35de0d478cd64492946a77f0250ac916",
       "version_major": 2,
       "version_minor": 0
      },
      "text/plain": [
       "Downloading pytorch_model.bin:   0%|          | 0.00/440M [00:00<?, ?B/s]"
      ]
     },
     "metadata": {},
     "output_type": "display_data"
    },
    {
     "name": "stderr",
     "output_type": "stream",
     "text": [
      "Some weights of the model checkpoint at bert-base-uncased were not used when initializing BertModel: ['cls.predictions.bias', 'cls.predictions.transform.LayerNorm.bias', 'cls.predictions.transform.dense.weight', 'cls.seq_relationship.bias', 'cls.predictions.transform.dense.bias', 'cls.seq_relationship.weight', 'cls.predictions.decoder.weight', 'cls.predictions.transform.LayerNorm.weight']\n",
      "- This IS expected if you are initializing BertModel from the checkpoint of a model trained on another task or with another architecture (e.g. initializing a BertForSequenceClassification model from a BertForPreTraining model).\n",
      "- This IS NOT expected if you are initializing BertModel from the checkpoint of a model that you expect to be exactly identical (initializing a BertForSequenceClassification model from a BertForSequenceClassification model).\n"
     ]
    }
   ],
   "source": [
    "from transformers import BertModel, BertTokenizer\n",
    "\n",
    "tokenizer_bert = BertTokenizer.from_pretrained('bert-base-uncased')\n",
    "model_bert = BertModel.from_pretrained('bert-base-uncased')"
   ]
  },
  {
   "cell_type": "markdown",
   "id": "9c8a14b2",
   "metadata": {
    "papermill": {
     "duration": 0.032007,
     "end_time": "2023-05-24T04:18:42.038401",
     "exception": false,
     "start_time": "2023-05-24T04:18:42.006394",
     "status": "completed"
    },
    "tags": []
   },
   "source": [
    "Kemudian, buatlah data loader dengan menggunakan fungsi yang sama."
   ]
  },
  {
   "cell_type": "code",
   "execution_count": 44,
   "id": "3b9c2abf",
   "metadata": {
    "execution": {
     "iopub.execute_input": "2023-05-24T04:18:42.102897Z",
     "iopub.status.busy": "2023-05-24T04:18:42.102537Z",
     "iopub.status.idle": "2023-05-24T04:18:42.114736Z",
     "shell.execute_reply": "2023-05-24T04:18:42.113885Z"
    },
    "papermill": {
     "duration": 0.047243,
     "end_time": "2023-05-24T04:18:42.116848",
     "exception": false,
     "start_time": "2023-05-24T04:18:42.069605",
     "status": "completed"
    },
    "tags": []
   },
   "outputs": [],
   "source": [
    "train_data_b = ReviewDataset(X_train,y_train, 512, tokenizer_bert)\n",
    "val_data_b = ReviewDataset(X_val,y_val, 512, tokenizer_bert)\n",
    "test_data_b = ReviewDataset(X_test,y_test, 512, tokenizer_bert)"
   ]
  },
  {
   "cell_type": "code",
   "execution_count": 45,
   "id": "4e03bc40",
   "metadata": {
    "execution": {
     "iopub.execute_input": "2023-05-24T04:18:42.182839Z",
     "iopub.status.busy": "2023-05-24T04:18:42.181009Z",
     "iopub.status.idle": "2023-05-24T04:18:42.187369Z",
     "shell.execute_reply": "2023-05-24T04:18:42.186356Z"
    },
    "papermill": {
     "duration": 0.041609,
     "end_time": "2023-05-24T04:18:42.189389",
     "exception": false,
     "start_time": "2023-05-24T04:18:42.147780",
     "status": "completed"
    },
    "tags": []
   },
   "outputs": [],
   "source": [
    "train_dataloader_b = DataLoader(train_data_b, batch_size=32, shuffle=True)\n",
    "val_dataloader_b = DataLoader(val_data_b, batch_size=32, shuffle=True)\n",
    "test_dataloader_b = DataLoader(test_data_b, batch_size=32, shuffle=True)"
   ]
  },
  {
   "cell_type": "markdown",
   "id": "88e76ad5",
   "metadata": {
    "papermill": {
     "duration": 0.031248,
     "end_time": "2023-05-24T04:18:42.252280",
     "exception": false,
     "start_time": "2023-05-24T04:18:42.221032",
     "status": "completed"
    },
    "tags": []
   },
   "source": [
    "Setelah itu, bangun transfer learning dengan menggunakan fungsi yang sama dengan yang sebelumnya."
   ]
  },
  {
   "cell_type": "code",
   "execution_count": 46,
   "id": "5a206825",
   "metadata": {
    "execution": {
     "iopub.execute_input": "2023-05-24T04:18:42.316927Z",
     "iopub.status.busy": "2023-05-24T04:18:42.316248Z",
     "iopub.status.idle": "2023-05-24T04:18:42.442811Z",
     "shell.execute_reply": "2023-05-24T04:18:42.441661Z"
    },
    "papermill": {
     "duration": 0.161853,
     "end_time": "2023-05-24T04:18:42.445558",
     "exception": false,
     "start_time": "2023-05-24T04:18:42.283705",
     "status": "completed"
    },
    "tags": []
   },
   "outputs": [
    {
     "data": {
      "text/plain": [
       "Bert_TL(\n",
       "  (bert): BertModel(\n",
       "    (embeddings): BertEmbeddings(\n",
       "      (word_embeddings): Embedding(30522, 768, padding_idx=0)\n",
       "      (position_embeddings): Embedding(512, 768)\n",
       "      (token_type_embeddings): Embedding(2, 768)\n",
       "      (LayerNorm): LayerNorm((768,), eps=1e-12, elementwise_affine=True)\n",
       "      (dropout): Dropout(p=0.1, inplace=False)\n",
       "    )\n",
       "    (encoder): BertEncoder(\n",
       "      (layer): ModuleList(\n",
       "        (0-11): 12 x BertLayer(\n",
       "          (attention): BertAttention(\n",
       "            (self): BertSelfAttention(\n",
       "              (query): Linear(in_features=768, out_features=768, bias=True)\n",
       "              (key): Linear(in_features=768, out_features=768, bias=True)\n",
       "              (value): Linear(in_features=768, out_features=768, bias=True)\n",
       "              (dropout): Dropout(p=0.1, inplace=False)\n",
       "            )\n",
       "            (output): BertSelfOutput(\n",
       "              (dense): Linear(in_features=768, out_features=768, bias=True)\n",
       "              (LayerNorm): LayerNorm((768,), eps=1e-12, elementwise_affine=True)\n",
       "              (dropout): Dropout(p=0.1, inplace=False)\n",
       "            )\n",
       "          )\n",
       "          (intermediate): BertIntermediate(\n",
       "            (dense): Linear(in_features=768, out_features=3072, bias=True)\n",
       "            (intermediate_act_fn): GELUActivation()\n",
       "          )\n",
       "          (output): BertOutput(\n",
       "            (dense): Linear(in_features=3072, out_features=768, bias=True)\n",
       "            (LayerNorm): LayerNorm((768,), eps=1e-12, elementwise_affine=True)\n",
       "            (dropout): Dropout(p=0.1, inplace=False)\n",
       "          )\n",
       "        )\n",
       "      )\n",
       "    )\n",
       "    (pooler): BertPooler(\n",
       "      (dense): Linear(in_features=768, out_features=768, bias=True)\n",
       "      (activation): Tanh()\n",
       "    )\n",
       "  )\n",
       "  (fc1): Linear(in_features=768, out_features=512, bias=True)\n",
       "  (relu): ReLU()\n",
       "  (fc2): Linear(in_features=512, out_features=3, bias=True)\n",
       ")"
      ]
     },
     "execution_count": 46,
     "metadata": {},
     "output_type": "execute_result"
    }
   ],
   "source": [
    "model_bert = Bert_TL(model_bert)\n",
    "model_bert.to(torch.device(\"cuda\"))"
   ]
  },
  {
   "cell_type": "markdown",
   "id": "66b38ef5",
   "metadata": {
    "papermill": {
     "duration": 0.032677,
     "end_time": "2023-05-24T04:18:42.510528",
     "exception": false,
     "start_time": "2023-05-24T04:18:42.477851",
     "status": "completed"
    },
    "tags": []
   },
   "source": [
    "Lakukan inisiasi ulang fungsi loss dan optimizernya"
   ]
  },
  {
   "cell_type": "code",
   "execution_count": 47,
   "id": "9684ecb1",
   "metadata": {
    "execution": {
     "iopub.execute_input": "2023-05-24T04:18:42.577262Z",
     "iopub.status.busy": "2023-05-24T04:18:42.576292Z",
     "iopub.status.idle": "2023-05-24T04:18:42.585117Z",
     "shell.execute_reply": "2023-05-24T04:18:42.584261Z"
    },
    "papermill": {
     "duration": 0.044983,
     "end_time": "2023-05-24T04:18:42.587288",
     "exception": false,
     "start_time": "2023-05-24T04:18:42.542305",
     "status": "completed"
    },
    "tags": []
   },
   "outputs": [],
   "source": [
    "# Inisiasi hyperparameter\n",
    "learning_rate = 5e-5\n",
    "\n",
    "#inisiasi loss function\n",
    "loss_fn =nn.CrossEntropyLoss(weight=class_weights_t).to(device)\n",
    "optimizer = Adam(model_bert.parameters(), lr=learning_rate)\n",
    "\n",
    "for param in model_bert.bert.parameters():\n",
    "    param.requires_grad = False"
   ]
  },
  {
   "cell_type": "markdown",
   "id": "365ab4d9",
   "metadata": {
    "papermill": {
     "duration": 0.032857,
     "end_time": "2023-05-24T04:18:42.652879",
     "exception": false,
     "start_time": "2023-05-24T04:18:42.620022",
     "status": "completed"
    },
    "tags": []
   },
   "source": [
    "Kemudian lakukan proses training kembali"
   ]
  },
  {
   "cell_type": "code",
   "execution_count": 48,
   "id": "1802a207",
   "metadata": {
    "execution": {
     "iopub.execute_input": "2023-05-24T04:18:42.719603Z",
     "iopub.status.busy": "2023-05-24T04:18:42.718900Z",
     "iopub.status.idle": "2023-05-24T08:38:17.079068Z",
     "shell.execute_reply": "2023-05-24T08:38:17.074707Z"
    },
    "papermill": {
     "duration": 15574.426271,
     "end_time": "2023-05-24T08:38:17.111244",
     "exception": false,
     "start_time": "2023-05-24T04:18:42.684973",
     "status": "completed"
    },
    "tags": []
   },
   "outputs": [
    {
     "name": "stdout",
     "output_type": "stream",
     "text": [
      "Epoch 1\n",
      "-------------------------------\n",
      "Train loss 0.7334489142758874 accuracy 0.8311841521246526\n",
      "Val loss 0.6524974863920638 accuracy 0.8535787703233041\n",
      "Done!\n",
      "Epoch 2\n",
      "-------------------------------\n",
      "Train loss 0.6619076193999416 accuracy 0.8422337468171094\n",
      "Val loss 0.6213592353151806 accuracy 0.8366660437301439\n",
      "Done!\n",
      "Epoch 3\n",
      "-------------------------------\n",
      "Train loss 0.6505143391232943 accuracy 0.8442427640339197\n",
      "Val loss 0.6219887886696787 accuracy 0.8755372827508877\n",
      "Done!\n",
      "Epoch 4\n",
      "-------------------------------\n",
      "Train loss 0.6348384432411114 accuracy 0.8467540355549327\n",
      "Val loss 0.6181920498609543 accuracy 0.8785273780601757\n",
      "Done!\n"
     ]
    }
   ],
   "source": [
    "epochs = 4\n",
    "for t in range(epochs):\n",
    "    print(f\"Epoch {t+1}\\n-------------------------------\")\n",
    "    train_acc, train_loss = train_loop(train_dataloader_b, model_bert, loss_fn, optimizer,device,len(X_train))\n",
    "    val_acc, val_loss = test_loop(\n",
    "      model_bert,\n",
    "      val_dataloader_b,\n",
    "      loss_fn, \n",
    "      device, \n",
    "      len(X_val)\n",
    "    )\n",
    "\n",
    "    print(f'Train loss {train_loss} accuracy {train_acc}')\n",
    "    print(f'Val loss {val_loss} accuracy {val_acc}')\n",
    "    print(\"Done!\")"
   ]
  },
  {
   "cell_type": "code",
   "execution_count": 49,
   "id": "8103722a",
   "metadata": {
    "execution": {
     "iopub.execute_input": "2023-05-24T08:38:17.177976Z",
     "iopub.status.busy": "2023-05-24T08:38:17.177614Z",
     "iopub.status.idle": "2023-05-24T08:45:03.609558Z",
     "shell.execute_reply": "2023-05-24T08:45:03.608516Z"
    },
    "papermill": {
     "duration": 406.502769,
     "end_time": "2023-05-24T08:45:03.646902",
     "exception": false,
     "start_time": "2023-05-24T08:38:17.144133",
     "status": "completed"
    },
    "tags": []
   },
   "outputs": [
    {
     "name": "stdout",
     "output_type": "stream",
     "text": [
      "              precision    recall  f1-score   support\n",
      "\n",
      "           0       0.50      0.71      0.59       472\n",
      "           1       0.24      0.54      0.34       507\n",
      "           2       0.99      0.90      0.94      9723\n",
      "\n",
      "    accuracy                           0.88     10702\n",
      "   macro avg       0.58      0.72      0.62     10702\n",
      "weighted avg       0.93      0.88      0.90     10702\n",
      "\n"
     ]
    }
   ],
   "source": [
    "from sklearn.metrics import classification_report\n",
    "y_pred_b, y_test_lab_b = get_predictions(model_bert, test_dataloader_b)\n",
    "\n",
    "print(classification_report(y_test_lab_b, y_pred_b))"
   ]
  },
  {
   "cell_type": "code",
   "execution_count": 50,
   "id": "7902f0e8",
   "metadata": {
    "execution": {
     "iopub.execute_input": "2023-05-24T08:45:03.712446Z",
     "iopub.status.busy": "2023-05-24T08:45:03.711749Z",
     "iopub.status.idle": "2023-05-24T08:45:04.299563Z",
     "shell.execute_reply": "2023-05-24T08:45:04.298604Z"
    },
    "papermill": {
     "duration": 0.623412,
     "end_time": "2023-05-24T08:45:04.302106",
     "exception": false,
     "start_time": "2023-05-24T08:45:03.678694",
     "status": "completed"
    },
    "tags": []
   },
   "outputs": [],
   "source": [
    "torch.save(model_bert, 'model_bert.pt')"
   ]
  },
  {
   "cell_type": "code",
   "execution_count": null,
   "id": "ea2b72cf",
   "metadata": {
    "papermill": {
     "duration": 0.031616,
     "end_time": "2023-05-24T08:45:04.366009",
     "exception": false,
     "start_time": "2023-05-24T08:45:04.334393",
     "status": "completed"
    },
    "tags": []
   },
   "outputs": [],
   "source": []
  }
 ],
 "metadata": {
  "kernelspec": {
   "display_name": "Python 3",
   "language": "python",
   "name": "python3"
  },
  "language_info": {
   "codemirror_mode": {
    "name": "ipython",
    "version": 3
   },
   "file_extension": ".py",
   "mimetype": "text/x-python",
   "name": "python",
   "nbconvert_exporter": "python",
   "pygments_lexer": "ipython3",
   "version": "3.10.10"
  },
  "papermill": {
   "default_parameters": {},
   "duration": 24251.867045,
   "end_time": "2023-05-24T08:45:07.935432",
   "environment_variables": {},
   "exception": null,
   "input_path": "__notebook__.ipynb",
   "output_path": "__notebook__.ipynb",
   "parameters": {},
   "start_time": "2023-05-24T02:00:56.068387",
   "version": "2.4.0"
  },
  "widgets": {
   "application/vnd.jupyter.widget-state+json": {
    "state": {
     "00c302cccc92419396eff434275a1bd3": {
      "model_module": "@jupyter-widgets/controls",
      "model_module_version": "1.5.0",
      "model_name": "HTMLModel",
      "state": {
       "_dom_classes": [],
       "_model_module": "@jupyter-widgets/controls",
       "_model_module_version": "1.5.0",
       "_model_name": "HTMLModel",
       "_view_count": null,
       "_view_module": "@jupyter-widgets/controls",
       "_view_module_version": "1.5.0",
       "_view_name": "HTMLView",
       "description": "",
       "description_tooltip": null,
       "layout": "IPY_MODEL_ef9be3b6de5f4d3480f79babae8e32da",
       "placeholder": "​",
       "style": "IPY_MODEL_5034ff80f0e3455bbed07821d604d6bd",
       "value": " 28.0/28.0 [00:00&lt;00:00, 1.83kB/s]"
      }
     },
     "0156c9800a2e41b9a1d7617d5e1161f4": {
      "model_module": "@jupyter-widgets/base",
      "model_module_version": "1.2.0",
      "model_name": "LayoutModel",
      "state": {
       "_model_module": "@jupyter-widgets/base",
       "_model_module_version": "1.2.0",
       "_model_name": "LayoutModel",
       "_view_count": null,
       "_view_module": "@jupyter-widgets/base",
       "_view_module_version": "1.2.0",
       "_view_name": "LayoutView",
       "align_content": null,
       "align_items": null,
       "align_self": null,
       "border": null,
       "bottom": null,
       "display": null,
       "flex": null,
       "flex_flow": null,
       "grid_area": null,
       "grid_auto_columns": null,
       "grid_auto_flow": null,
       "grid_auto_rows": null,
       "grid_column": null,
       "grid_gap": null,
       "grid_row": null,
       "grid_template_areas": null,
       "grid_template_columns": null,
       "grid_template_rows": null,
       "height": null,
       "justify_content": null,
       "justify_items": null,
       "left": null,
       "margin": null,
       "max_height": null,
       "max_width": null,
       "min_height": null,
       "min_width": null,
       "object_fit": null,
       "object_position": null,
       "order": null,
       "overflow": null,
       "overflow_x": null,
       "overflow_y": null,
       "padding": null,
       "right": null,
       "top": null,
       "visibility": null,
       "width": null
      }
     },
     "0471081673084a78b783a44976ec73b2": {
      "model_module": "@jupyter-widgets/base",
      "model_module_version": "1.2.0",
      "model_name": "LayoutModel",
      "state": {
       "_model_module": "@jupyter-widgets/base",
       "_model_module_version": "1.2.0",
       "_model_name": "LayoutModel",
       "_view_count": null,
       "_view_module": "@jupyter-widgets/base",
       "_view_module_version": "1.2.0",
       "_view_name": "LayoutView",
       "align_content": null,
       "align_items": null,
       "align_self": null,
       "border": null,
       "bottom": null,
       "display": null,
       "flex": null,
       "flex_flow": null,
       "grid_area": null,
       "grid_auto_columns": null,
       "grid_auto_flow": null,
       "grid_auto_rows": null,
       "grid_column": null,
       "grid_gap": null,
       "grid_row": null,
       "grid_template_areas": null,
       "grid_template_columns": null,
       "grid_template_rows": null,
       "height": null,
       "justify_content": null,
       "justify_items": null,
       "left": null,
       "margin": null,
       "max_height": null,
       "max_width": null,
       "min_height": null,
       "min_width": null,
       "object_fit": null,
       "object_position": null,
       "order": null,
       "overflow": null,
       "overflow_x": null,
       "overflow_y": null,
       "padding": null,
       "right": null,
       "top": null,
       "visibility": null,
       "width": null
      }
     },
     "06ba915ebf5b44d0851b32d3dd92773e": {
      "model_module": "@jupyter-widgets/controls",
      "model_module_version": "1.5.0",
      "model_name": "HTMLModel",
      "state": {
       "_dom_classes": [],
       "_model_module": "@jupyter-widgets/controls",
       "_model_module_version": "1.5.0",
       "_model_name": "HTMLModel",
       "_view_count": null,
       "_view_module": "@jupyter-widgets/controls",
       "_view_module_version": "1.5.0",
       "_view_name": "HTMLView",
       "description": "",
       "description_tooltip": null,
       "layout": "IPY_MODEL_7fb52118acbc4d2a90733bf22718e1b4",
       "placeholder": "​",
       "style": "IPY_MODEL_f2c47267e6f546b3a018e4c40965421c",
       "value": "Downloading (…)lve/main/config.json: 100%"
      }
     },
     "07b4ddc12bc54f22b40e6ef185ea40a8": {
      "model_module": "@jupyter-widgets/base",
      "model_module_version": "1.2.0",
      "model_name": "LayoutModel",
      "state": {
       "_model_module": "@jupyter-widgets/base",
       "_model_module_version": "1.2.0",
       "_model_name": "LayoutModel",
       "_view_count": null,
       "_view_module": "@jupyter-widgets/base",
       "_view_module_version": "1.2.0",
       "_view_name": "LayoutView",
       "align_content": null,
       "align_items": null,
       "align_self": null,
       "border": null,
       "bottom": null,
       "display": null,
       "flex": null,
       "flex_flow": null,
       "grid_area": null,
       "grid_auto_columns": null,
       "grid_auto_flow": null,
       "grid_auto_rows": null,
       "grid_column": null,
       "grid_gap": null,
       "grid_row": null,
       "grid_template_areas": null,
       "grid_template_columns": null,
       "grid_template_rows": null,
       "height": null,
       "justify_content": null,
       "justify_items": null,
       "left": null,
       "margin": null,
       "max_height": null,
       "max_width": null,
       "min_height": null,
       "min_width": null,
       "object_fit": null,
       "object_position": null,
       "order": null,
       "overflow": null,
       "overflow_x": null,
       "overflow_y": null,
       "padding": null,
       "right": null,
       "top": null,
       "visibility": null,
       "width": null
      }
     },
     "120cbfcfce054db6b020ff168dd0dc6c": {
      "model_module": "@jupyter-widgets/controls",
      "model_module_version": "1.5.0",
      "model_name": "ProgressStyleModel",
      "state": {
       "_model_module": "@jupyter-widgets/controls",
       "_model_module_version": "1.5.0",
       "_model_name": "ProgressStyleModel",
       "_view_count": null,
       "_view_module": "@jupyter-widgets/base",
       "_view_module_version": "1.2.0",
       "_view_name": "StyleView",
       "bar_color": null,
       "description_width": ""
      }
     },
     "17c0f7dadabc4ef7a74de393df3049c3": {
      "model_module": "@jupyter-widgets/base",
      "model_module_version": "1.2.0",
      "model_name": "LayoutModel",
      "state": {
       "_model_module": "@jupyter-widgets/base",
       "_model_module_version": "1.2.0",
       "_model_name": "LayoutModel",
       "_view_count": null,
       "_view_module": "@jupyter-widgets/base",
       "_view_module_version": "1.2.0",
       "_view_name": "LayoutView",
       "align_content": null,
       "align_items": null,
       "align_self": null,
       "border": null,
       "bottom": null,
       "display": null,
       "flex": null,
       "flex_flow": null,
       "grid_area": null,
       "grid_auto_columns": null,
       "grid_auto_flow": null,
       "grid_auto_rows": null,
       "grid_column": null,
       "grid_gap": null,
       "grid_row": null,
       "grid_template_areas": null,
       "grid_template_columns": null,
       "grid_template_rows": null,
       "height": null,
       "justify_content": null,
       "justify_items": null,
       "left": null,
       "margin": null,
       "max_height": null,
       "max_width": null,
       "min_height": null,
       "min_width": null,
       "object_fit": null,
       "object_position": null,
       "order": null,
       "overflow": null,
       "overflow_x": null,
       "overflow_y": null,
       "padding": null,
       "right": null,
       "top": null,
       "visibility": null,
       "width": null
      }
     },
     "18b439604ff94ca8bb88d1afbc50c6ac": {
      "model_module": "@jupyter-widgets/controls",
      "model_module_version": "1.5.0",
      "model_name": "HTMLModel",
      "state": {
       "_dom_classes": [],
       "_model_module": "@jupyter-widgets/controls",
       "_model_module_version": "1.5.0",
       "_model_name": "HTMLModel",
       "_view_count": null,
       "_view_module": "@jupyter-widgets/controls",
       "_view_module_version": "1.5.0",
       "_view_name": "HTMLView",
       "description": "",
       "description_tooltip": null,
       "layout": "IPY_MODEL_839059b5cf084e15962c73da6742cdaa",
       "placeholder": "​",
       "style": "IPY_MODEL_aa7e5c5ea4864c47954c11c7bbd887e1",
       "value": "Downloading (…)solve/main/vocab.txt: 100%"
      }
     },
     "1edcf587af4f493aae5aa55672349e63": {
      "model_module": "@jupyter-widgets/base",
      "model_module_version": "1.2.0",
      "model_name": "LayoutModel",
      "state": {
       "_model_module": "@jupyter-widgets/base",
       "_model_module_version": "1.2.0",
       "_model_name": "LayoutModel",
       "_view_count": null,
       "_view_module": "@jupyter-widgets/base",
       "_view_module_version": "1.2.0",
       "_view_name": "LayoutView",
       "align_content": null,
       "align_items": null,
       "align_self": null,
       "border": null,
       "bottom": null,
       "display": null,
       "flex": null,
       "flex_flow": null,
       "grid_area": null,
       "grid_auto_columns": null,
       "grid_auto_flow": null,
       "grid_auto_rows": null,
       "grid_column": null,
       "grid_gap": null,
       "grid_row": null,
       "grid_template_areas": null,
       "grid_template_columns": null,
       "grid_template_rows": null,
       "height": null,
       "justify_content": null,
       "justify_items": null,
       "left": null,
       "margin": null,
       "max_height": null,
       "max_width": null,
       "min_height": null,
       "min_width": null,
       "object_fit": null,
       "object_position": null,
       "order": null,
       "overflow": null,
       "overflow_x": null,
       "overflow_y": null,
       "padding": null,
       "right": null,
       "top": null,
       "visibility": null,
       "width": null
      }
     },
     "288f582a57704abfbff6395df22e58de": {
      "model_module": "@jupyter-widgets/controls",
      "model_module_version": "1.5.0",
      "model_name": "FloatProgressModel",
      "state": {
       "_dom_classes": [],
       "_model_module": "@jupyter-widgets/controls",
       "_model_module_version": "1.5.0",
       "_model_name": "FloatProgressModel",
       "_view_count": null,
       "_view_module": "@jupyter-widgets/controls",
       "_view_module_version": "1.5.0",
       "_view_name": "ProgressView",
       "bar_style": "success",
       "description": "",
       "description_tooltip": null,
       "layout": "IPY_MODEL_0156c9800a2e41b9a1d7617d5e1161f4",
       "max": 231508.0,
       "min": 0.0,
       "orientation": "horizontal",
       "style": "IPY_MODEL_120cbfcfce054db6b020ff168dd0dc6c",
       "value": 231508.0
      }
     },
     "2ac80992839b4f06963805caa2188728": {
      "model_module": "@jupyter-widgets/base",
      "model_module_version": "1.2.0",
      "model_name": "LayoutModel",
      "state": {
       "_model_module": "@jupyter-widgets/base",
       "_model_module_version": "1.2.0",
       "_model_name": "LayoutModel",
       "_view_count": null,
       "_view_module": "@jupyter-widgets/base",
       "_view_module_version": "1.2.0",
       "_view_name": "LayoutView",
       "align_content": null,
       "align_items": null,
       "align_self": null,
       "border": null,
       "bottom": null,
       "display": null,
       "flex": null,
       "flex_flow": null,
       "grid_area": null,
       "grid_auto_columns": null,
       "grid_auto_flow": null,
       "grid_auto_rows": null,
       "grid_column": null,
       "grid_gap": null,
       "grid_row": null,
       "grid_template_areas": null,
       "grid_template_columns": null,
       "grid_template_rows": null,
       "height": null,
       "justify_content": null,
       "justify_items": null,
       "left": null,
       "margin": null,
       "max_height": null,
       "max_width": null,
       "min_height": null,
       "min_width": null,
       "object_fit": null,
       "object_position": null,
       "order": null,
       "overflow": null,
       "overflow_x": null,
       "overflow_y": null,
       "padding": null,
       "right": null,
       "top": null,
       "visibility": null,
       "width": null
      }
     },
     "2dd7744eb6e747568fecabbc02a53392": {
      "model_module": "@jupyter-widgets/controls",
      "model_module_version": "1.5.0",
      "model_name": "DescriptionStyleModel",
      "state": {
       "_model_module": "@jupyter-widgets/controls",
       "_model_module_version": "1.5.0",
       "_model_name": "DescriptionStyleModel",
       "_view_count": null,
       "_view_module": "@jupyter-widgets/base",
       "_view_module_version": "1.2.0",
       "_view_name": "StyleView",
       "description_width": ""
      }
     },
     "2fc58a9b38e444468b5ab07f3de1e01b": {
      "model_module": "@jupyter-widgets/base",
      "model_module_version": "1.2.0",
      "model_name": "LayoutModel",
      "state": {
       "_model_module": "@jupyter-widgets/base",
       "_model_module_version": "1.2.0",
       "_model_name": "LayoutModel",
       "_view_count": null,
       "_view_module": "@jupyter-widgets/base",
       "_view_module_version": "1.2.0",
       "_view_name": "LayoutView",
       "align_content": null,
       "align_items": null,
       "align_self": null,
       "border": null,
       "bottom": null,
       "display": null,
       "flex": null,
       "flex_flow": null,
       "grid_area": null,
       "grid_auto_columns": null,
       "grid_auto_flow": null,
       "grid_auto_rows": null,
       "grid_column": null,
       "grid_gap": null,
       "grid_row": null,
       "grid_template_areas": null,
       "grid_template_columns": null,
       "grid_template_rows": null,
       "height": null,
       "justify_content": null,
       "justify_items": null,
       "left": null,
       "margin": null,
       "max_height": null,
       "max_width": null,
       "min_height": null,
       "min_width": null,
       "object_fit": null,
       "object_position": null,
       "order": null,
       "overflow": null,
       "overflow_x": null,
       "overflow_y": null,
       "padding": null,
       "right": null,
       "top": null,
       "visibility": null,
       "width": null
      }
     },
     "35cf3599f54645a9baf9547fbf7fd1ba": {
      "model_module": "@jupyter-widgets/controls",
      "model_module_version": "1.5.0",
      "model_name": "FloatProgressModel",
      "state": {
       "_dom_classes": [],
       "_model_module": "@jupyter-widgets/controls",
       "_model_module_version": "1.5.0",
       "_model_name": "FloatProgressModel",
       "_view_count": null,
       "_view_module": "@jupyter-widgets/controls",
       "_view_module_version": "1.5.0",
       "_view_name": "ProgressView",
       "bar_style": "success",
       "description": "",
       "description_tooltip": null,
       "layout": "IPY_MODEL_4ef88a3bc6174863a6966b5a27010c52",
       "max": 570.0,
       "min": 0.0,
       "orientation": "horizontal",
       "style": "IPY_MODEL_aab0ffe0c5494629bc559ff7383b744a",
       "value": 570.0
      }
     },
     "35de0d478cd64492946a77f0250ac916": {
      "model_module": "@jupyter-widgets/controls",
      "model_module_version": "1.5.0",
      "model_name": "HBoxModel",
      "state": {
       "_dom_classes": [],
       "_model_module": "@jupyter-widgets/controls",
       "_model_module_version": "1.5.0",
       "_model_name": "HBoxModel",
       "_view_count": null,
       "_view_module": "@jupyter-widgets/controls",
       "_view_module_version": "1.5.0",
       "_view_name": "HBoxView",
       "box_style": "",
       "children": [
        "IPY_MODEL_377cfb143c074481847fc67df78a40b5",
        "IPY_MODEL_9cf87a8aefb545088c87cc1884c1f200",
        "IPY_MODEL_fce8ea4ef5e7483b817a6b018a331984"
       ],
       "layout": "IPY_MODEL_88f1f2ab928941759f9e836a8075d395"
      }
     },
     "35f69441bbc642ceb1688a4e8b122335": {
      "model_module": "@jupyter-widgets/controls",
      "model_module_version": "1.5.0",
      "model_name": "ProgressStyleModel",
      "state": {
       "_model_module": "@jupyter-widgets/controls",
       "_model_module_version": "1.5.0",
       "_model_name": "ProgressStyleModel",
       "_view_count": null,
       "_view_module": "@jupyter-widgets/base",
       "_view_module_version": "1.2.0",
       "_view_name": "StyleView",
       "bar_color": null,
       "description_width": ""
      }
     },
     "36e3606efcba4464a26978aaa59d9386": {
      "model_module": "@jupyter-widgets/controls",
      "model_module_version": "1.5.0",
      "model_name": "HTMLModel",
      "state": {
       "_dom_classes": [],
       "_model_module": "@jupyter-widgets/controls",
       "_model_module_version": "1.5.0",
       "_model_name": "HTMLModel",
       "_view_count": null,
       "_view_module": "@jupyter-widgets/controls",
       "_view_module_version": "1.5.0",
       "_view_name": "HTMLView",
       "description": "",
       "description_tooltip": null,
       "layout": "IPY_MODEL_634b234a1dfe45e09f3a3299f93265dc",
       "placeholder": "​",
       "style": "IPY_MODEL_e9017a764cee402189c97b032ab1b977",
       "value": "Downloading (…)solve/main/vocab.txt: 100%"
      }
     },
     "377cfb143c074481847fc67df78a40b5": {
      "model_module": "@jupyter-widgets/controls",
      "model_module_version": "1.5.0",
      "model_name": "HTMLModel",
      "state": {
       "_dom_classes": [],
       "_model_module": "@jupyter-widgets/controls",
       "_model_module_version": "1.5.0",
       "_model_name": "HTMLModel",
       "_view_count": null,
       "_view_module": "@jupyter-widgets/controls",
       "_view_module_version": "1.5.0",
       "_view_name": "HTMLView",
       "description": "",
       "description_tooltip": null,
       "layout": "IPY_MODEL_5a78240640c84cc282d7d2b6452b12b4",
       "placeholder": "​",
       "style": "IPY_MODEL_e54153da8b594b9a968611ec162b092f",
       "value": "Downloading pytorch_model.bin: 100%"
      }
     },
     "39f362de992f42f185dba52d8bfd1510": {
      "model_module": "@jupyter-widgets/controls",
      "model_module_version": "1.5.0",
      "model_name": "HTMLModel",
      "state": {
       "_dom_classes": [],
       "_model_module": "@jupyter-widgets/controls",
       "_model_module_version": "1.5.0",
       "_model_name": "HTMLModel",
       "_view_count": null,
       "_view_module": "@jupyter-widgets/controls",
       "_view_module_version": "1.5.0",
       "_view_name": "HTMLView",
       "description": "",
       "description_tooltip": null,
       "layout": "IPY_MODEL_17c0f7dadabc4ef7a74de393df3049c3",
       "placeholder": "​",
       "style": "IPY_MODEL_f6549deec7be42e695a0e0ff3a1722af",
       "value": "Downloading (…)okenizer_config.json: 100%"
      }
     },
     "3b00d10dc56d476d9f146698da9bdf48": {
      "model_module": "@jupyter-widgets/base",
      "model_module_version": "1.2.0",
      "model_name": "LayoutModel",
      "state": {
       "_model_module": "@jupyter-widgets/base",
       "_model_module_version": "1.2.0",
       "_model_name": "LayoutModel",
       "_view_count": null,
       "_view_module": "@jupyter-widgets/base",
       "_view_module_version": "1.2.0",
       "_view_name": "LayoutView",
       "align_content": null,
       "align_items": null,
       "align_self": null,
       "border": null,
       "bottom": null,
       "display": null,
       "flex": null,
       "flex_flow": null,
       "grid_area": null,
       "grid_auto_columns": null,
       "grid_auto_flow": null,
       "grid_auto_rows": null,
       "grid_column": null,
       "grid_gap": null,
       "grid_row": null,
       "grid_template_areas": null,
       "grid_template_columns": null,
       "grid_template_rows": null,
       "height": null,
       "justify_content": null,
       "justify_items": null,
       "left": null,
       "margin": null,
       "max_height": null,
       "max_width": null,
       "min_height": null,
       "min_width": null,
       "object_fit": null,
       "object_position": null,
       "order": null,
       "overflow": null,
       "overflow_x": null,
       "overflow_y": null,
       "padding": null,
       "right": null,
       "top": null,
       "visibility": null,
       "width": null
      }
     },
     "4000fde590b74f14a66f71a286056a97": {
      "model_module": "@jupyter-widgets/controls",
      "model_module_version": "1.5.0",
      "model_name": "FloatProgressModel",
      "state": {
       "_dom_classes": [],
       "_model_module": "@jupyter-widgets/controls",
       "_model_module_version": "1.5.0",
       "_model_name": "FloatProgressModel",
       "_view_count": null,
       "_view_module": "@jupyter-widgets/controls",
       "_view_module_version": "1.5.0",
       "_view_name": "ProgressView",
       "bar_style": "success",
       "description": "",
       "description_tooltip": null,
       "layout": "IPY_MODEL_ce13fc6ae3bb4d4c847b76d2ee631524",
       "max": 28.0,
       "min": 0.0,
       "orientation": "horizontal",
       "style": "IPY_MODEL_9af6c7d7f22946f69a3ceadd7da38361",
       "value": 28.0
      }
     },
     "47125dfa0fa94fa7b12e4641eb2b9eb6": {
      "model_module": "@jupyter-widgets/controls",
      "model_module_version": "1.5.0",
      "model_name": "DescriptionStyleModel",
      "state": {
       "_model_module": "@jupyter-widgets/controls",
       "_model_module_version": "1.5.0",
       "_model_name": "DescriptionStyleModel",
       "_view_count": null,
       "_view_module": "@jupyter-widgets/base",
       "_view_module_version": "1.2.0",
       "_view_name": "StyleView",
       "description_width": ""
      }
     },
     "4baab5b747444345a4edd0b87a34c626": {
      "model_module": "@jupyter-widgets/base",
      "model_module_version": "1.2.0",
      "model_name": "LayoutModel",
      "state": {
       "_model_module": "@jupyter-widgets/base",
       "_model_module_version": "1.2.0",
       "_model_name": "LayoutModel",
       "_view_count": null,
       "_view_module": "@jupyter-widgets/base",
       "_view_module_version": "1.2.0",
       "_view_name": "LayoutView",
       "align_content": null,
       "align_items": null,
       "align_self": null,
       "border": null,
       "bottom": null,
       "display": null,
       "flex": null,
       "flex_flow": null,
       "grid_area": null,
       "grid_auto_columns": null,
       "grid_auto_flow": null,
       "grid_auto_rows": null,
       "grid_column": null,
       "grid_gap": null,
       "grid_row": null,
       "grid_template_areas": null,
       "grid_template_columns": null,
       "grid_template_rows": null,
       "height": null,
       "justify_content": null,
       "justify_items": null,
       "left": null,
       "margin": null,
       "max_height": null,
       "max_width": null,
       "min_height": null,
       "min_width": null,
       "object_fit": null,
       "object_position": null,
       "order": null,
       "overflow": null,
       "overflow_x": null,
       "overflow_y": null,
       "padding": null,
       "right": null,
       "top": null,
       "visibility": null,
       "width": null
      }
     },
     "4c6472f57f6941029c23607e5d39b480": {
      "model_module": "@jupyter-widgets/controls",
      "model_module_version": "1.5.0",
      "model_name": "ProgressStyleModel",
      "state": {
       "_model_module": "@jupyter-widgets/controls",
       "_model_module_version": "1.5.0",
       "_model_name": "ProgressStyleModel",
       "_view_count": null,
       "_view_module": "@jupyter-widgets/base",
       "_view_module_version": "1.2.0",
       "_view_name": "StyleView",
       "bar_color": null,
       "description_width": ""
      }
     },
     "4ef88a3bc6174863a6966b5a27010c52": {
      "model_module": "@jupyter-widgets/base",
      "model_module_version": "1.2.0",
      "model_name": "LayoutModel",
      "state": {
       "_model_module": "@jupyter-widgets/base",
       "_model_module_version": "1.2.0",
       "_model_name": "LayoutModel",
       "_view_count": null,
       "_view_module": "@jupyter-widgets/base",
       "_view_module_version": "1.2.0",
       "_view_name": "LayoutView",
       "align_content": null,
       "align_items": null,
       "align_self": null,
       "border": null,
       "bottom": null,
       "display": null,
       "flex": null,
       "flex_flow": null,
       "grid_area": null,
       "grid_auto_columns": null,
       "grid_auto_flow": null,
       "grid_auto_rows": null,
       "grid_column": null,
       "grid_gap": null,
       "grid_row": null,
       "grid_template_areas": null,
       "grid_template_columns": null,
       "grid_template_rows": null,
       "height": null,
       "justify_content": null,
       "justify_items": null,
       "left": null,
       "margin": null,
       "max_height": null,
       "max_width": null,
       "min_height": null,
       "min_width": null,
       "object_fit": null,
       "object_position": null,
       "order": null,
       "overflow": null,
       "overflow_x": null,
       "overflow_y": null,
       "padding": null,
       "right": null,
       "top": null,
       "visibility": null,
       "width": null
      }
     },
     "4effa1dd329f4a06a9e5d444d6399c46": {
      "model_module": "@jupyter-widgets/controls",
      "model_module_version": "1.5.0",
      "model_name": "HTMLModel",
      "state": {
       "_dom_classes": [],
       "_model_module": "@jupyter-widgets/controls",
       "_model_module_version": "1.5.0",
       "_model_name": "HTMLModel",
       "_view_count": null,
       "_view_module": "@jupyter-widgets/controls",
       "_view_module_version": "1.5.0",
       "_view_name": "HTMLView",
       "description": "",
       "description_tooltip": null,
       "layout": "IPY_MODEL_55b4ca347ae7444cbbd839f70793ee5a",
       "placeholder": "​",
       "style": "IPY_MODEL_b3a00a4628f348bbbab7dda55c453972",
       "value": " 483/483 [00:00&lt;00:00, 24.8kB/s]"
      }
     },
     "5034ff80f0e3455bbed07821d604d6bd": {
      "model_module": "@jupyter-widgets/controls",
      "model_module_version": "1.5.0",
      "model_name": "DescriptionStyleModel",
      "state": {
       "_model_module": "@jupyter-widgets/controls",
       "_model_module_version": "1.5.0",
       "_model_name": "DescriptionStyleModel",
       "_view_count": null,
       "_view_module": "@jupyter-widgets/base",
       "_view_module_version": "1.2.0",
       "_view_name": "StyleView",
       "description_width": ""
      }
     },
     "55766cae760e4c719f984ca609d5e302": {
      "model_module": "@jupyter-widgets/controls",
      "model_module_version": "1.5.0",
      "model_name": "DescriptionStyleModel",
      "state": {
       "_model_module": "@jupyter-widgets/controls",
       "_model_module_version": "1.5.0",
       "_model_name": "DescriptionStyleModel",
       "_view_count": null,
       "_view_module": "@jupyter-widgets/base",
       "_view_module_version": "1.2.0",
       "_view_name": "StyleView",
       "description_width": ""
      }
     },
     "55b4ca347ae7444cbbd839f70793ee5a": {
      "model_module": "@jupyter-widgets/base",
      "model_module_version": "1.2.0",
      "model_name": "LayoutModel",
      "state": {
       "_model_module": "@jupyter-widgets/base",
       "_model_module_version": "1.2.0",
       "_model_name": "LayoutModel",
       "_view_count": null,
       "_view_module": "@jupyter-widgets/base",
       "_view_module_version": "1.2.0",
       "_view_name": "LayoutView",
       "align_content": null,
       "align_items": null,
       "align_self": null,
       "border": null,
       "bottom": null,
       "display": null,
       "flex": null,
       "flex_flow": null,
       "grid_area": null,
       "grid_auto_columns": null,
       "grid_auto_flow": null,
       "grid_auto_rows": null,
       "grid_column": null,
       "grid_gap": null,
       "grid_row": null,
       "grid_template_areas": null,
       "grid_template_columns": null,
       "grid_template_rows": null,
       "height": null,
       "justify_content": null,
       "justify_items": null,
       "left": null,
       "margin": null,
       "max_height": null,
       "max_width": null,
       "min_height": null,
       "min_width": null,
       "object_fit": null,
       "object_position": null,
       "order": null,
       "overflow": null,
       "overflow_x": null,
       "overflow_y": null,
       "padding": null,
       "right": null,
       "top": null,
       "visibility": null,
       "width": null
      }
     },
     "5a78240640c84cc282d7d2b6452b12b4": {
      "model_module": "@jupyter-widgets/base",
      "model_module_version": "1.2.0",
      "model_name": "LayoutModel",
      "state": {
       "_model_module": "@jupyter-widgets/base",
       "_model_module_version": "1.2.0",
       "_model_name": "LayoutModel",
       "_view_count": null,
       "_view_module": "@jupyter-widgets/base",
       "_view_module_version": "1.2.0",
       "_view_name": "LayoutView",
       "align_content": null,
       "align_items": null,
       "align_self": null,
       "border": null,
       "bottom": null,
       "display": null,
       "flex": null,
       "flex_flow": null,
       "grid_area": null,
       "grid_auto_columns": null,
       "grid_auto_flow": null,
       "grid_auto_rows": null,
       "grid_column": null,
       "grid_gap": null,
       "grid_row": null,
       "grid_template_areas": null,
       "grid_template_columns": null,
       "grid_template_rows": null,
       "height": null,
       "justify_content": null,
       "justify_items": null,
       "left": null,
       "margin": null,
       "max_height": null,
       "max_width": null,
       "min_height": null,
       "min_width": null,
       "object_fit": null,
       "object_position": null,
       "order": null,
       "overflow": null,
       "overflow_x": null,
       "overflow_y": null,
       "padding": null,
       "right": null,
       "top": null,
       "visibility": null,
       "width": null
      }
     },
     "5ca55feb60f8400ebffac65eaef42deb": {
      "model_module": "@jupyter-widgets/controls",
      "model_module_version": "1.5.0",
      "model_name": "DescriptionStyleModel",
      "state": {
       "_model_module": "@jupyter-widgets/controls",
       "_model_module_version": "1.5.0",
       "_model_name": "DescriptionStyleModel",
       "_view_count": null,
       "_view_module": "@jupyter-widgets/base",
       "_view_module_version": "1.2.0",
       "_view_name": "StyleView",
       "description_width": ""
      }
     },
     "5e6dc6bf365c433e8317022a9f032681": {
      "model_module": "@jupyter-widgets/controls",
      "model_module_version": "1.5.0",
      "model_name": "FloatProgressModel",
      "state": {
       "_dom_classes": [],
       "_model_module": "@jupyter-widgets/controls",
       "_model_module_version": "1.5.0",
       "_model_name": "FloatProgressModel",
       "_view_count": null,
       "_view_module": "@jupyter-widgets/controls",
       "_view_module_version": "1.5.0",
       "_view_name": "ProgressView",
       "bar_style": "success",
       "description": "",
       "description_tooltip": null,
       "layout": "IPY_MODEL_ef33af81552a4df1a9ef4f1e22427b86",
       "max": 483.0,
       "min": 0.0,
       "orientation": "horizontal",
       "style": "IPY_MODEL_35f69441bbc642ceb1688a4e8b122335",
       "value": 483.0
      }
     },
     "60bd9a373d3343939ea7f4afecd25469": {
      "model_module": "@jupyter-widgets/controls",
      "model_module_version": "1.5.0",
      "model_name": "HBoxModel",
      "state": {
       "_dom_classes": [],
       "_model_module": "@jupyter-widgets/controls",
       "_model_module_version": "1.5.0",
       "_model_name": "HBoxModel",
       "_view_count": null,
       "_view_module": "@jupyter-widgets/controls",
       "_view_module_version": "1.5.0",
       "_view_name": "HBoxView",
       "box_style": "",
       "children": [
        "IPY_MODEL_06ba915ebf5b44d0851b32d3dd92773e",
        "IPY_MODEL_5e6dc6bf365c433e8317022a9f032681",
        "IPY_MODEL_4effa1dd329f4a06a9e5d444d6399c46"
       ],
       "layout": "IPY_MODEL_07b4ddc12bc54f22b40e6ef185ea40a8"
      }
     },
     "634b234a1dfe45e09f3a3299f93265dc": {
      "model_module": "@jupyter-widgets/base",
      "model_module_version": "1.2.0",
      "model_name": "LayoutModel",
      "state": {
       "_model_module": "@jupyter-widgets/base",
       "_model_module_version": "1.2.0",
       "_model_name": "LayoutModel",
       "_view_count": null,
       "_view_module": "@jupyter-widgets/base",
       "_view_module_version": "1.2.0",
       "_view_name": "LayoutView",
       "align_content": null,
       "align_items": null,
       "align_self": null,
       "border": null,
       "bottom": null,
       "display": null,
       "flex": null,
       "flex_flow": null,
       "grid_area": null,
       "grid_auto_columns": null,
       "grid_auto_flow": null,
       "grid_auto_rows": null,
       "grid_column": null,
       "grid_gap": null,
       "grid_row": null,
       "grid_template_areas": null,
       "grid_template_columns": null,
       "grid_template_rows": null,
       "height": null,
       "justify_content": null,
       "justify_items": null,
       "left": null,
       "margin": null,
       "max_height": null,
       "max_width": null,
       "min_height": null,
       "min_width": null,
       "object_fit": null,
       "object_position": null,
       "order": null,
       "overflow": null,
       "overflow_x": null,
       "overflow_y": null,
       "padding": null,
       "right": null,
       "top": null,
       "visibility": null,
       "width": null
      }
     },
     "65a54ce4411e4a9cb8f561b6cbecb5dc": {
      "model_module": "@jupyter-widgets/base",
      "model_module_version": "1.2.0",
      "model_name": "LayoutModel",
      "state": {
       "_model_module": "@jupyter-widgets/base",
       "_model_module_version": "1.2.0",
       "_model_name": "LayoutModel",
       "_view_count": null,
       "_view_module": "@jupyter-widgets/base",
       "_view_module_version": "1.2.0",
       "_view_name": "LayoutView",
       "align_content": null,
       "align_items": null,
       "align_self": null,
       "border": null,
       "bottom": null,
       "display": null,
       "flex": null,
       "flex_flow": null,
       "grid_area": null,
       "grid_auto_columns": null,
       "grid_auto_flow": null,
       "grid_auto_rows": null,
       "grid_column": null,
       "grid_gap": null,
       "grid_row": null,
       "grid_template_areas": null,
       "grid_template_columns": null,
       "grid_template_rows": null,
       "height": null,
       "justify_content": null,
       "justify_items": null,
       "left": null,
       "margin": null,
       "max_height": null,
       "max_width": null,
       "min_height": null,
       "min_width": null,
       "object_fit": null,
       "object_position": null,
       "order": null,
       "overflow": null,
       "overflow_x": null,
       "overflow_y": null,
       "padding": null,
       "right": null,
       "top": null,
       "visibility": null,
       "width": null
      }
     },
     "67594241f6674fec99f33e9da0cda747": {
      "model_module": "@jupyter-widgets/base",
      "model_module_version": "1.2.0",
      "model_name": "LayoutModel",
      "state": {
       "_model_module": "@jupyter-widgets/base",
       "_model_module_version": "1.2.0",
       "_model_name": "LayoutModel",
       "_view_count": null,
       "_view_module": "@jupyter-widgets/base",
       "_view_module_version": "1.2.0",
       "_view_name": "LayoutView",
       "align_content": null,
       "align_items": null,
       "align_self": null,
       "border": null,
       "bottom": null,
       "display": null,
       "flex": null,
       "flex_flow": null,
       "grid_area": null,
       "grid_auto_columns": null,
       "grid_auto_flow": null,
       "grid_auto_rows": null,
       "grid_column": null,
       "grid_gap": null,
       "grid_row": null,
       "grid_template_areas": null,
       "grid_template_columns": null,
       "grid_template_rows": null,
       "height": null,
       "justify_content": null,
       "justify_items": null,
       "left": null,
       "margin": null,
       "max_height": null,
       "max_width": null,
       "min_height": null,
       "min_width": null,
       "object_fit": null,
       "object_position": null,
       "order": null,
       "overflow": null,
       "overflow_x": null,
       "overflow_y": null,
       "padding": null,
       "right": null,
       "top": null,
       "visibility": null,
       "width": null
      }
     },
     "6a4d6d87aca84ded96819813dea835d7": {
      "model_module": "@jupyter-widgets/controls",
      "model_module_version": "1.5.0",
      "model_name": "HBoxModel",
      "state": {
       "_dom_classes": [],
       "_model_module": "@jupyter-widgets/controls",
       "_model_module_version": "1.5.0",
       "_model_name": "HBoxModel",
       "_view_count": null,
       "_view_module": "@jupyter-widgets/controls",
       "_view_module_version": "1.5.0",
       "_view_name": "HBoxView",
       "box_style": "",
       "children": [
        "IPY_MODEL_36e3606efcba4464a26978aaa59d9386",
        "IPY_MODEL_edaebc32b76d40f7b67118a4217c00c5",
        "IPY_MODEL_f4f04b840c1b44608f6474b36839889d"
       ],
       "layout": "IPY_MODEL_780244ef78bc4facbbd98ef84cae94f2"
      }
     },
     "6b9c2751c8ce46aa8daab1f2f5c5980c": {
      "model_module": "@jupyter-widgets/controls",
      "model_module_version": "1.5.0",
      "model_name": "ProgressStyleModel",
      "state": {
       "_model_module": "@jupyter-widgets/controls",
       "_model_module_version": "1.5.0",
       "_model_name": "ProgressStyleModel",
       "_view_count": null,
       "_view_module": "@jupyter-widgets/base",
       "_view_module_version": "1.2.0",
       "_view_name": "StyleView",
       "bar_color": null,
       "description_width": ""
      }
     },
     "6ee4395bb7474bfb983b3eaf61c2c2e0": {
      "model_module": "@jupyter-widgets/base",
      "model_module_version": "1.2.0",
      "model_name": "LayoutModel",
      "state": {
       "_model_module": "@jupyter-widgets/base",
       "_model_module_version": "1.2.0",
       "_model_name": "LayoutModel",
       "_view_count": null,
       "_view_module": "@jupyter-widgets/base",
       "_view_module_version": "1.2.0",
       "_view_name": "LayoutView",
       "align_content": null,
       "align_items": null,
       "align_self": null,
       "border": null,
       "bottom": null,
       "display": null,
       "flex": null,
       "flex_flow": null,
       "grid_area": null,
       "grid_auto_columns": null,
       "grid_auto_flow": null,
       "grid_auto_rows": null,
       "grid_column": null,
       "grid_gap": null,
       "grid_row": null,
       "grid_template_areas": null,
       "grid_template_columns": null,
       "grid_template_rows": null,
       "height": null,
       "justify_content": null,
       "justify_items": null,
       "left": null,
       "margin": null,
       "max_height": null,
       "max_width": null,
       "min_height": null,
       "min_width": null,
       "object_fit": null,
       "object_position": null,
       "order": null,
       "overflow": null,
       "overflow_x": null,
       "overflow_y": null,
       "padding": null,
       "right": null,
       "top": null,
       "visibility": null,
       "width": null
      }
     },
     "6fbcb953fabb439eb0652a8974f604e8": {
      "model_module": "@jupyter-widgets/controls",
      "model_module_version": "1.5.0",
      "model_name": "HTMLModel",
      "state": {
       "_dom_classes": [],
       "_model_module": "@jupyter-widgets/controls",
       "_model_module_version": "1.5.0",
       "_model_name": "HTMLModel",
       "_view_count": null,
       "_view_module": "@jupyter-widgets/controls",
       "_view_module_version": "1.5.0",
       "_view_name": "HTMLView",
       "description": "",
       "description_tooltip": null,
       "layout": "IPY_MODEL_1edcf587af4f493aae5aa55672349e63",
       "placeholder": "​",
       "style": "IPY_MODEL_7ead0b1914ff4099bf6c6e6504be5f09",
       "value": " 232k/232k [00:00&lt;00:00, 4.28MB/s]"
      }
     },
     "7084b6dee5e04b4aa5432edbb4944ae5": {
      "model_module": "@jupyter-widgets/base",
      "model_module_version": "1.2.0",
      "model_name": "LayoutModel",
      "state": {
       "_model_module": "@jupyter-widgets/base",
       "_model_module_version": "1.2.0",
       "_model_name": "LayoutModel",
       "_view_count": null,
       "_view_module": "@jupyter-widgets/base",
       "_view_module_version": "1.2.0",
       "_view_name": "LayoutView",
       "align_content": null,
       "align_items": null,
       "align_self": null,
       "border": null,
       "bottom": null,
       "display": null,
       "flex": null,
       "flex_flow": null,
       "grid_area": null,
       "grid_auto_columns": null,
       "grid_auto_flow": null,
       "grid_auto_rows": null,
       "grid_column": null,
       "grid_gap": null,
       "grid_row": null,
       "grid_template_areas": null,
       "grid_template_columns": null,
       "grid_template_rows": null,
       "height": null,
       "justify_content": null,
       "justify_items": null,
       "left": null,
       "margin": null,
       "max_height": null,
       "max_width": null,
       "min_height": null,
       "min_width": null,
       "object_fit": null,
       "object_position": null,
       "order": null,
       "overflow": null,
       "overflow_x": null,
       "overflow_y": null,
       "padding": null,
       "right": null,
       "top": null,
       "visibility": null,
       "width": null
      }
     },
     "778edb3d4d714517b59f6ee34eac5bfd": {
      "model_module": "@jupyter-widgets/controls",
      "model_module_version": "1.5.0",
      "model_name": "HTMLModel",
      "state": {
       "_dom_classes": [],
       "_model_module": "@jupyter-widgets/controls",
       "_model_module_version": "1.5.0",
       "_model_name": "HTMLModel",
       "_view_count": null,
       "_view_module": "@jupyter-widgets/controls",
       "_view_module_version": "1.5.0",
       "_view_name": "HTMLView",
       "description": "",
       "description_tooltip": null,
       "layout": "IPY_MODEL_2fc58a9b38e444468b5ab07f3de1e01b",
       "placeholder": "​",
       "style": "IPY_MODEL_791c5b0e516142f6ba45b3658051d1a1",
       "value": "Downloading (…)okenizer_config.json: 100%"
      }
     },
     "780244ef78bc4facbbd98ef84cae94f2": {
      "model_module": "@jupyter-widgets/base",
      "model_module_version": "1.2.0",
      "model_name": "LayoutModel",
      "state": {
       "_model_module": "@jupyter-widgets/base",
       "_model_module_version": "1.2.0",
       "_model_name": "LayoutModel",
       "_view_count": null,
       "_view_module": "@jupyter-widgets/base",
       "_view_module_version": "1.2.0",
       "_view_name": "LayoutView",
       "align_content": null,
       "align_items": null,
       "align_self": null,
       "border": null,
       "bottom": null,
       "display": null,
       "flex": null,
       "flex_flow": null,
       "grid_area": null,
       "grid_auto_columns": null,
       "grid_auto_flow": null,
       "grid_auto_rows": null,
       "grid_column": null,
       "grid_gap": null,
       "grid_row": null,
       "grid_template_areas": null,
       "grid_template_columns": null,
       "grid_template_rows": null,
       "height": null,
       "justify_content": null,
       "justify_items": null,
       "left": null,
       "margin": null,
       "max_height": null,
       "max_width": null,
       "min_height": null,
       "min_width": null,
       "object_fit": null,
       "object_position": null,
       "order": null,
       "overflow": null,
       "overflow_x": null,
       "overflow_y": null,
       "padding": null,
       "right": null,
       "top": null,
       "visibility": null,
       "width": null
      }
     },
     "78dffc86a4354012a7ad5fa8e7ffc616": {
      "model_module": "@jupyter-widgets/controls",
      "model_module_version": "1.5.0",
      "model_name": "ProgressStyleModel",
      "state": {
       "_model_module": "@jupyter-widgets/controls",
       "_model_module_version": "1.5.0",
       "_model_name": "ProgressStyleModel",
       "_view_count": null,
       "_view_module": "@jupyter-widgets/base",
       "_view_module_version": "1.2.0",
       "_view_name": "StyleView",
       "bar_color": null,
       "description_width": ""
      }
     },
     "791c5b0e516142f6ba45b3658051d1a1": {
      "model_module": "@jupyter-widgets/controls",
      "model_module_version": "1.5.0",
      "model_name": "DescriptionStyleModel",
      "state": {
       "_model_module": "@jupyter-widgets/controls",
       "_model_module_version": "1.5.0",
       "_model_name": "DescriptionStyleModel",
       "_view_count": null,
       "_view_module": "@jupyter-widgets/base",
       "_view_module_version": "1.2.0",
       "_view_name": "StyleView",
       "description_width": ""
      }
     },
     "7ead0b1914ff4099bf6c6e6504be5f09": {
      "model_module": "@jupyter-widgets/controls",
      "model_module_version": "1.5.0",
      "model_name": "DescriptionStyleModel",
      "state": {
       "_model_module": "@jupyter-widgets/controls",
       "_model_module_version": "1.5.0",
       "_model_name": "DescriptionStyleModel",
       "_view_count": null,
       "_view_module": "@jupyter-widgets/base",
       "_view_module_version": "1.2.0",
       "_view_name": "StyleView",
       "description_width": ""
      }
     },
     "7fb52118acbc4d2a90733bf22718e1b4": {
      "model_module": "@jupyter-widgets/base",
      "model_module_version": "1.2.0",
      "model_name": "LayoutModel",
      "state": {
       "_model_module": "@jupyter-widgets/base",
       "_model_module_version": "1.2.0",
       "_model_name": "LayoutModel",
       "_view_count": null,
       "_view_module": "@jupyter-widgets/base",
       "_view_module_version": "1.2.0",
       "_view_name": "LayoutView",
       "align_content": null,
       "align_items": null,
       "align_self": null,
       "border": null,
       "bottom": null,
       "display": null,
       "flex": null,
       "flex_flow": null,
       "grid_area": null,
       "grid_auto_columns": null,
       "grid_auto_flow": null,
       "grid_auto_rows": null,
       "grid_column": null,
       "grid_gap": null,
       "grid_row": null,
       "grid_template_areas": null,
       "grid_template_columns": null,
       "grid_template_rows": null,
       "height": null,
       "justify_content": null,
       "justify_items": null,
       "left": null,
       "margin": null,
       "max_height": null,
       "max_width": null,
       "min_height": null,
       "min_width": null,
       "object_fit": null,
       "object_position": null,
       "order": null,
       "overflow": null,
       "overflow_x": null,
       "overflow_y": null,
       "padding": null,
       "right": null,
       "top": null,
       "visibility": null,
       "width": null
      }
     },
     "839059b5cf084e15962c73da6742cdaa": {
      "model_module": "@jupyter-widgets/base",
      "model_module_version": "1.2.0",
      "model_name": "LayoutModel",
      "state": {
       "_model_module": "@jupyter-widgets/base",
       "_model_module_version": "1.2.0",
       "_model_name": "LayoutModel",
       "_view_count": null,
       "_view_module": "@jupyter-widgets/base",
       "_view_module_version": "1.2.0",
       "_view_name": "LayoutView",
       "align_content": null,
       "align_items": null,
       "align_self": null,
       "border": null,
       "bottom": null,
       "display": null,
       "flex": null,
       "flex_flow": null,
       "grid_area": null,
       "grid_auto_columns": null,
       "grid_auto_flow": null,
       "grid_auto_rows": null,
       "grid_column": null,
       "grid_gap": null,
       "grid_row": null,
       "grid_template_areas": null,
       "grid_template_columns": null,
       "grid_template_rows": null,
       "height": null,
       "justify_content": null,
       "justify_items": null,
       "left": null,
       "margin": null,
       "max_height": null,
       "max_width": null,
       "min_height": null,
       "min_width": null,
       "object_fit": null,
       "object_position": null,
       "order": null,
       "overflow": null,
       "overflow_x": null,
       "overflow_y": null,
       "padding": null,
       "right": null,
       "top": null,
       "visibility": null,
       "width": null
      }
     },
     "8508437071514984a23f45135b8c27db": {
      "model_module": "@jupyter-widgets/controls",
      "model_module_version": "1.5.0",
      "model_name": "HTMLModel",
      "state": {
       "_dom_classes": [],
       "_model_module": "@jupyter-widgets/controls",
       "_model_module_version": "1.5.0",
       "_model_name": "HTMLModel",
       "_view_count": null,
       "_view_module": "@jupyter-widgets/controls",
       "_view_module_version": "1.5.0",
       "_view_name": "HTMLView",
       "description": "",
       "description_tooltip": null,
       "layout": "IPY_MODEL_4baab5b747444345a4edd0b87a34c626",
       "placeholder": "​",
       "style": "IPY_MODEL_55766cae760e4c719f984ca609d5e302",
       "value": "Downloading (…)lve/main/config.json: 100%"
      }
     },
     "88f1f2ab928941759f9e836a8075d395": {
      "model_module": "@jupyter-widgets/base",
      "model_module_version": "1.2.0",
      "model_name": "LayoutModel",
      "state": {
       "_model_module": "@jupyter-widgets/base",
       "_model_module_version": "1.2.0",
       "_model_name": "LayoutModel",
       "_view_count": null,
       "_view_module": "@jupyter-widgets/base",
       "_view_module_version": "1.2.0",
       "_view_name": "LayoutView",
       "align_content": null,
       "align_items": null,
       "align_self": null,
       "border": null,
       "bottom": null,
       "display": null,
       "flex": null,
       "flex_flow": null,
       "grid_area": null,
       "grid_auto_columns": null,
       "grid_auto_flow": null,
       "grid_auto_rows": null,
       "grid_column": null,
       "grid_gap": null,
       "grid_row": null,
       "grid_template_areas": null,
       "grid_template_columns": null,
       "grid_template_rows": null,
       "height": null,
       "justify_content": null,
       "justify_items": null,
       "left": null,
       "margin": null,
       "max_height": null,
       "max_width": null,
       "min_height": null,
       "min_width": null,
       "object_fit": null,
       "object_position": null,
       "order": null,
       "overflow": null,
       "overflow_x": null,
       "overflow_y": null,
       "padding": null,
       "right": null,
       "top": null,
       "visibility": null,
       "width": null
      }
     },
     "93c3943c99a2444fb9b19055b9734818": {
      "model_module": "@jupyter-widgets/base",
      "model_module_version": "1.2.0",
      "model_name": "LayoutModel",
      "state": {
       "_model_module": "@jupyter-widgets/base",
       "_model_module_version": "1.2.0",
       "_model_name": "LayoutModel",
       "_view_count": null,
       "_view_module": "@jupyter-widgets/base",
       "_view_module_version": "1.2.0",
       "_view_name": "LayoutView",
       "align_content": null,
       "align_items": null,
       "align_self": null,
       "border": null,
       "bottom": null,
       "display": null,
       "flex": null,
       "flex_flow": null,
       "grid_area": null,
       "grid_auto_columns": null,
       "grid_auto_flow": null,
       "grid_auto_rows": null,
       "grid_column": null,
       "grid_gap": null,
       "grid_row": null,
       "grid_template_areas": null,
       "grid_template_columns": null,
       "grid_template_rows": null,
       "height": null,
       "justify_content": null,
       "justify_items": null,
       "left": null,
       "margin": null,
       "max_height": null,
       "max_width": null,
       "min_height": null,
       "min_width": null,
       "object_fit": null,
       "object_position": null,
       "order": null,
       "overflow": null,
       "overflow_x": null,
       "overflow_y": null,
       "padding": null,
       "right": null,
       "top": null,
       "visibility": null,
       "width": null
      }
     },
     "982600b653f54b4ab2f2600da646d734": {
      "model_module": "@jupyter-widgets/base",
      "model_module_version": "1.2.0",
      "model_name": "LayoutModel",
      "state": {
       "_model_module": "@jupyter-widgets/base",
       "_model_module_version": "1.2.0",
       "_model_name": "LayoutModel",
       "_view_count": null,
       "_view_module": "@jupyter-widgets/base",
       "_view_module_version": "1.2.0",
       "_view_name": "LayoutView",
       "align_content": null,
       "align_items": null,
       "align_self": null,
       "border": null,
       "bottom": null,
       "display": null,
       "flex": null,
       "flex_flow": null,
       "grid_area": null,
       "grid_auto_columns": null,
       "grid_auto_flow": null,
       "grid_auto_rows": null,
       "grid_column": null,
       "grid_gap": null,
       "grid_row": null,
       "grid_template_areas": null,
       "grid_template_columns": null,
       "grid_template_rows": null,
       "height": null,
       "justify_content": null,
       "justify_items": null,
       "left": null,
       "margin": null,
       "max_height": null,
       "max_width": null,
       "min_height": null,
       "min_width": null,
       "object_fit": null,
       "object_position": null,
       "order": null,
       "overflow": null,
       "overflow_x": null,
       "overflow_y": null,
       "padding": null,
       "right": null,
       "top": null,
       "visibility": null,
       "width": null
      }
     },
     "9af6c7d7f22946f69a3ceadd7da38361": {
      "model_module": "@jupyter-widgets/controls",
      "model_module_version": "1.5.0",
      "model_name": "ProgressStyleModel",
      "state": {
       "_model_module": "@jupyter-widgets/controls",
       "_model_module_version": "1.5.0",
       "_model_name": "ProgressStyleModel",
       "_view_count": null,
       "_view_module": "@jupyter-widgets/base",
       "_view_module_version": "1.2.0",
       "_view_name": "StyleView",
       "bar_color": null,
       "description_width": ""
      }
     },
     "9cf87a8aefb545088c87cc1884c1f200": {
      "model_module": "@jupyter-widgets/controls",
      "model_module_version": "1.5.0",
      "model_name": "FloatProgressModel",
      "state": {
       "_dom_classes": [],
       "_model_module": "@jupyter-widgets/controls",
       "_model_module_version": "1.5.0",
       "_model_name": "FloatProgressModel",
       "_view_count": null,
       "_view_module": "@jupyter-widgets/controls",
       "_view_module_version": "1.5.0",
       "_view_name": "ProgressView",
       "bar_style": "success",
       "description": "",
       "description_tooltip": null,
       "layout": "IPY_MODEL_6ee4395bb7474bfb983b3eaf61c2c2e0",
       "max": 440473133.0,
       "min": 0.0,
       "orientation": "horizontal",
       "style": "IPY_MODEL_6b9c2751c8ce46aa8daab1f2f5c5980c",
       "value": 440473133.0
      }
     },
     "9d93c81aaa0c4cfca63a051faa9e328a": {
      "model_module": "@jupyter-widgets/controls",
      "model_module_version": "1.5.0",
      "model_name": "DescriptionStyleModel",
      "state": {
       "_model_module": "@jupyter-widgets/controls",
       "_model_module_version": "1.5.0",
       "_model_name": "DescriptionStyleModel",
       "_view_count": null,
       "_view_module": "@jupyter-widgets/base",
       "_view_module_version": "1.2.0",
       "_view_name": "StyleView",
       "description_width": ""
      }
     },
     "a645db906de74b3bbd6d50d2da7e90c0": {
      "model_module": "@jupyter-widgets/controls",
      "model_module_version": "1.5.0",
      "model_name": "FloatProgressModel",
      "state": {
       "_dom_classes": [],
       "_model_module": "@jupyter-widgets/controls",
       "_model_module_version": "1.5.0",
       "_model_name": "FloatProgressModel",
       "_view_count": null,
       "_view_module": "@jupyter-widgets/controls",
       "_view_module_version": "1.5.0",
       "_view_name": "ProgressView",
       "bar_style": "success",
       "description": "",
       "description_tooltip": null,
       "layout": "IPY_MODEL_93c3943c99a2444fb9b19055b9734818",
       "max": 267967963.0,
       "min": 0.0,
       "orientation": "horizontal",
       "style": "IPY_MODEL_78dffc86a4354012a7ad5fa8e7ffc616",
       "value": 267967963.0
      }
     },
     "a6ad53c965b74d34b8ef8e7aa01f7996": {
      "model_module": "@jupyter-widgets/base",
      "model_module_version": "1.2.0",
      "model_name": "LayoutModel",
      "state": {
       "_model_module": "@jupyter-widgets/base",
       "_model_module_version": "1.2.0",
       "_model_name": "LayoutModel",
       "_view_count": null,
       "_view_module": "@jupyter-widgets/base",
       "_view_module_version": "1.2.0",
       "_view_name": "LayoutView",
       "align_content": null,
       "align_items": null,
       "align_self": null,
       "border": null,
       "bottom": null,
       "display": null,
       "flex": null,
       "flex_flow": null,
       "grid_area": null,
       "grid_auto_columns": null,
       "grid_auto_flow": null,
       "grid_auto_rows": null,
       "grid_column": null,
       "grid_gap": null,
       "grid_row": null,
       "grid_template_areas": null,
       "grid_template_columns": null,
       "grid_template_rows": null,
       "height": null,
       "justify_content": null,
       "justify_items": null,
       "left": null,
       "margin": null,
       "max_height": null,
       "max_width": null,
       "min_height": null,
       "min_width": null,
       "object_fit": null,
       "object_position": null,
       "order": null,
       "overflow": null,
       "overflow_x": null,
       "overflow_y": null,
       "padding": null,
       "right": null,
       "top": null,
       "visibility": null,
       "width": null
      }
     },
     "aa7e5c5ea4864c47954c11c7bbd887e1": {
      "model_module": "@jupyter-widgets/controls",
      "model_module_version": "1.5.0",
      "model_name": "DescriptionStyleModel",
      "state": {
       "_model_module": "@jupyter-widgets/controls",
       "_model_module_version": "1.5.0",
       "_model_name": "DescriptionStyleModel",
       "_view_count": null,
       "_view_module": "@jupyter-widgets/base",
       "_view_module_version": "1.2.0",
       "_view_name": "StyleView",
       "description_width": ""
      }
     },
     "aab0ffe0c5494629bc559ff7383b744a": {
      "model_module": "@jupyter-widgets/controls",
      "model_module_version": "1.5.0",
      "model_name": "ProgressStyleModel",
      "state": {
       "_model_module": "@jupyter-widgets/controls",
       "_model_module_version": "1.5.0",
       "_model_name": "ProgressStyleModel",
       "_view_count": null,
       "_view_module": "@jupyter-widgets/base",
       "_view_module_version": "1.2.0",
       "_view_name": "StyleView",
       "bar_color": null,
       "description_width": ""
      }
     },
     "b20f9b36271e4c1e89db8bdafb840da3": {
      "model_module": "@jupyter-widgets/controls",
      "model_module_version": "1.5.0",
      "model_name": "HTMLModel",
      "state": {
       "_dom_classes": [],
       "_model_module": "@jupyter-widgets/controls",
       "_model_module_version": "1.5.0",
       "_model_name": "HTMLModel",
       "_view_count": null,
       "_view_module": "@jupyter-widgets/controls",
       "_view_module_version": "1.5.0",
       "_view_name": "HTMLView",
       "description": "",
       "description_tooltip": null,
       "layout": "IPY_MODEL_cb0824313e50455196c816717ca3fdf1",
       "placeholder": "​",
       "style": "IPY_MODEL_5ca55feb60f8400ebffac65eaef42deb",
       "value": " 570/570 [00:00&lt;00:00, 34.0kB/s]"
      }
     },
     "b3a00a4628f348bbbab7dda55c453972": {
      "model_module": "@jupyter-widgets/controls",
      "model_module_version": "1.5.0",
      "model_name": "DescriptionStyleModel",
      "state": {
       "_model_module": "@jupyter-widgets/controls",
       "_model_module_version": "1.5.0",
       "_model_name": "DescriptionStyleModel",
       "_view_count": null,
       "_view_module": "@jupyter-widgets/base",
       "_view_module_version": "1.2.0",
       "_view_name": "StyleView",
       "description_width": ""
      }
     },
     "b6000c29653441fbb32b6c312cdb7797": {
      "model_module": "@jupyter-widgets/controls",
      "model_module_version": "1.5.0",
      "model_name": "HBoxModel",
      "state": {
       "_dom_classes": [],
       "_model_module": "@jupyter-widgets/controls",
       "_model_module_version": "1.5.0",
       "_model_name": "HBoxModel",
       "_view_count": null,
       "_view_module": "@jupyter-widgets/controls",
       "_view_module_version": "1.5.0",
       "_view_name": "HBoxView",
       "box_style": "",
       "children": [
        "IPY_MODEL_778edb3d4d714517b59f6ee34eac5bfd",
        "IPY_MODEL_4000fde590b74f14a66f71a286056a97",
        "IPY_MODEL_00c302cccc92419396eff434275a1bd3"
       ],
       "layout": "IPY_MODEL_0471081673084a78b783a44976ec73b2"
      }
     },
     "b727a112ef60429a9aa6101362777865": {
      "model_module": "@jupyter-widgets/base",
      "model_module_version": "1.2.0",
      "model_name": "LayoutModel",
      "state": {
       "_model_module": "@jupyter-widgets/base",
       "_model_module_version": "1.2.0",
       "_model_name": "LayoutModel",
       "_view_count": null,
       "_view_module": "@jupyter-widgets/base",
       "_view_module_version": "1.2.0",
       "_view_name": "LayoutView",
       "align_content": null,
       "align_items": null,
       "align_self": null,
       "border": null,
       "bottom": null,
       "display": null,
       "flex": null,
       "flex_flow": null,
       "grid_area": null,
       "grid_auto_columns": null,
       "grid_auto_flow": null,
       "grid_auto_rows": null,
       "grid_column": null,
       "grid_gap": null,
       "grid_row": null,
       "grid_template_areas": null,
       "grid_template_columns": null,
       "grid_template_rows": null,
       "height": null,
       "justify_content": null,
       "justify_items": null,
       "left": null,
       "margin": null,
       "max_height": null,
       "max_width": null,
       "min_height": null,
       "min_width": null,
       "object_fit": null,
       "object_position": null,
       "order": null,
       "overflow": null,
       "overflow_x": null,
       "overflow_y": null,
       "padding": null,
       "right": null,
       "top": null,
       "visibility": null,
       "width": null
      }
     },
     "ba545ac01f314c44ad342b14c6cfb533": {
      "model_module": "@jupyter-widgets/base",
      "model_module_version": "1.2.0",
      "model_name": "LayoutModel",
      "state": {
       "_model_module": "@jupyter-widgets/base",
       "_model_module_version": "1.2.0",
       "_model_name": "LayoutModel",
       "_view_count": null,
       "_view_module": "@jupyter-widgets/base",
       "_view_module_version": "1.2.0",
       "_view_name": "LayoutView",
       "align_content": null,
       "align_items": null,
       "align_self": null,
       "border": null,
       "bottom": null,
       "display": null,
       "flex": null,
       "flex_flow": null,
       "grid_area": null,
       "grid_auto_columns": null,
       "grid_auto_flow": null,
       "grid_auto_rows": null,
       "grid_column": null,
       "grid_gap": null,
       "grid_row": null,
       "grid_template_areas": null,
       "grid_template_columns": null,
       "grid_template_rows": null,
       "height": null,
       "justify_content": null,
       "justify_items": null,
       "left": null,
       "margin": null,
       "max_height": null,
       "max_width": null,
       "min_height": null,
       "min_width": null,
       "object_fit": null,
       "object_position": null,
       "order": null,
       "overflow": null,
       "overflow_x": null,
       "overflow_y": null,
       "padding": null,
       "right": null,
       "top": null,
       "visibility": null,
       "width": null
      }
     },
     "c1fa96b3bd3d40cc9d3a6e221ec969b3": {
      "model_module": "@jupyter-widgets/controls",
      "model_module_version": "1.5.0",
      "model_name": "HBoxModel",
      "state": {
       "_dom_classes": [],
       "_model_module": "@jupyter-widgets/controls",
       "_model_module_version": "1.5.0",
       "_model_name": "HBoxModel",
       "_view_count": null,
       "_view_module": "@jupyter-widgets/controls",
       "_view_module_version": "1.5.0",
       "_view_name": "HBoxView",
       "box_style": "",
       "children": [
        "IPY_MODEL_18b439604ff94ca8bb88d1afbc50c6ac",
        "IPY_MODEL_288f582a57704abfbff6395df22e58de",
        "IPY_MODEL_6fbcb953fabb439eb0652a8974f604e8"
       ],
       "layout": "IPY_MODEL_65a54ce4411e4a9cb8f561b6cbecb5dc"
      }
     },
     "c3f23b4840754bf2bc77df8a115a8876": {
      "model_module": "@jupyter-widgets/controls",
      "model_module_version": "1.5.0",
      "model_name": "HBoxModel",
      "state": {
       "_dom_classes": [],
       "_model_module": "@jupyter-widgets/controls",
       "_model_module_version": "1.5.0",
       "_model_name": "HBoxModel",
       "_view_count": null,
       "_view_module": "@jupyter-widgets/controls",
       "_view_module_version": "1.5.0",
       "_view_name": "HBoxView",
       "box_style": "",
       "children": [
        "IPY_MODEL_39f362de992f42f185dba52d8bfd1510",
        "IPY_MODEL_f67a35e4ef4e4a97a470bf3c2ce71b50",
        "IPY_MODEL_fc5147476ee94549ae398268031c55e0"
       ],
       "layout": "IPY_MODEL_ba545ac01f314c44ad342b14c6cfb533"
      }
     },
     "cb0824313e50455196c816717ca3fdf1": {
      "model_module": "@jupyter-widgets/base",
      "model_module_version": "1.2.0",
      "model_name": "LayoutModel",
      "state": {
       "_model_module": "@jupyter-widgets/base",
       "_model_module_version": "1.2.0",
       "_model_name": "LayoutModel",
       "_view_count": null,
       "_view_module": "@jupyter-widgets/base",
       "_view_module_version": "1.2.0",
       "_view_name": "LayoutView",
       "align_content": null,
       "align_items": null,
       "align_self": null,
       "border": null,
       "bottom": null,
       "display": null,
       "flex": null,
       "flex_flow": null,
       "grid_area": null,
       "grid_auto_columns": null,
       "grid_auto_flow": null,
       "grid_auto_rows": null,
       "grid_column": null,
       "grid_gap": null,
       "grid_row": null,
       "grid_template_areas": null,
       "grid_template_columns": null,
       "grid_template_rows": null,
       "height": null,
       "justify_content": null,
       "justify_items": null,
       "left": null,
       "margin": null,
       "max_height": null,
       "max_width": null,
       "min_height": null,
       "min_width": null,
       "object_fit": null,
       "object_position": null,
       "order": null,
       "overflow": null,
       "overflow_x": null,
       "overflow_y": null,
       "padding": null,
       "right": null,
       "top": null,
       "visibility": null,
       "width": null
      }
     },
     "ce13fc6ae3bb4d4c847b76d2ee631524": {
      "model_module": "@jupyter-widgets/base",
      "model_module_version": "1.2.0",
      "model_name": "LayoutModel",
      "state": {
       "_model_module": "@jupyter-widgets/base",
       "_model_module_version": "1.2.0",
       "_model_name": "LayoutModel",
       "_view_count": null,
       "_view_module": "@jupyter-widgets/base",
       "_view_module_version": "1.2.0",
       "_view_name": "LayoutView",
       "align_content": null,
       "align_items": null,
       "align_self": null,
       "border": null,
       "bottom": null,
       "display": null,
       "flex": null,
       "flex_flow": null,
       "grid_area": null,
       "grid_auto_columns": null,
       "grid_auto_flow": null,
       "grid_auto_rows": null,
       "grid_column": null,
       "grid_gap": null,
       "grid_row": null,
       "grid_template_areas": null,
       "grid_template_columns": null,
       "grid_template_rows": null,
       "height": null,
       "justify_content": null,
       "justify_items": null,
       "left": null,
       "margin": null,
       "max_height": null,
       "max_width": null,
       "min_height": null,
       "min_width": null,
       "object_fit": null,
       "object_position": null,
       "order": null,
       "overflow": null,
       "overflow_x": null,
       "overflow_y": null,
       "padding": null,
       "right": null,
       "top": null,
       "visibility": null,
       "width": null
      }
     },
     "ce95ae0f471c41f6b141829e78a58a58": {
      "model_module": "@jupyter-widgets/base",
      "model_module_version": "1.2.0",
      "model_name": "LayoutModel",
      "state": {
       "_model_module": "@jupyter-widgets/base",
       "_model_module_version": "1.2.0",
       "_model_name": "LayoutModel",
       "_view_count": null,
       "_view_module": "@jupyter-widgets/base",
       "_view_module_version": "1.2.0",
       "_view_name": "LayoutView",
       "align_content": null,
       "align_items": null,
       "align_self": null,
       "border": null,
       "bottom": null,
       "display": null,
       "flex": null,
       "flex_flow": null,
       "grid_area": null,
       "grid_auto_columns": null,
       "grid_auto_flow": null,
       "grid_auto_rows": null,
       "grid_column": null,
       "grid_gap": null,
       "grid_row": null,
       "grid_template_areas": null,
       "grid_template_columns": null,
       "grid_template_rows": null,
       "height": null,
       "justify_content": null,
       "justify_items": null,
       "left": null,
       "margin": null,
       "max_height": null,
       "max_width": null,
       "min_height": null,
       "min_width": null,
       "object_fit": null,
       "object_position": null,
       "order": null,
       "overflow": null,
       "overflow_x": null,
       "overflow_y": null,
       "padding": null,
       "right": null,
       "top": null,
       "visibility": null,
       "width": null
      }
     },
     "da5d583e5ae4417aaccc35ff6a3e9d4c": {
      "model_module": "@jupyter-widgets/controls",
      "model_module_version": "1.5.0",
      "model_name": "DescriptionStyleModel",
      "state": {
       "_model_module": "@jupyter-widgets/controls",
       "_model_module_version": "1.5.0",
       "_model_name": "DescriptionStyleModel",
       "_view_count": null,
       "_view_module": "@jupyter-widgets/base",
       "_view_module_version": "1.2.0",
       "_view_name": "StyleView",
       "description_width": ""
      }
     },
     "e05145fac7c54156b7b9b2960f507287": {
      "model_module": "@jupyter-widgets/controls",
      "model_module_version": "1.5.0",
      "model_name": "HBoxModel",
      "state": {
       "_dom_classes": [],
       "_model_module": "@jupyter-widgets/controls",
       "_model_module_version": "1.5.0",
       "_model_name": "HBoxModel",
       "_view_count": null,
       "_view_module": "@jupyter-widgets/controls",
       "_view_module_version": "1.5.0",
       "_view_name": "HBoxView",
       "box_style": "",
       "children": [
        "IPY_MODEL_8508437071514984a23f45135b8c27db",
        "IPY_MODEL_35cf3599f54645a9baf9547fbf7fd1ba",
        "IPY_MODEL_b20f9b36271e4c1e89db8bdafb840da3"
       ],
       "layout": "IPY_MODEL_ce95ae0f471c41f6b141829e78a58a58"
      }
     },
     "e54153da8b594b9a968611ec162b092f": {
      "model_module": "@jupyter-widgets/controls",
      "model_module_version": "1.5.0",
      "model_name": "DescriptionStyleModel",
      "state": {
       "_model_module": "@jupyter-widgets/controls",
       "_model_module_version": "1.5.0",
       "_model_name": "DescriptionStyleModel",
       "_view_count": null,
       "_view_module": "@jupyter-widgets/base",
       "_view_module_version": "1.2.0",
       "_view_name": "StyleView",
       "description_width": ""
      }
     },
     "e600a6c882c34077b5080f3c11c9dfb0": {
      "model_module": "@jupyter-widgets/controls",
      "model_module_version": "1.5.0",
      "model_name": "DescriptionStyleModel",
      "state": {
       "_model_module": "@jupyter-widgets/controls",
       "_model_module_version": "1.5.0",
       "_model_name": "DescriptionStyleModel",
       "_view_count": null,
       "_view_module": "@jupyter-widgets/base",
       "_view_module_version": "1.2.0",
       "_view_name": "StyleView",
       "description_width": ""
      }
     },
     "e9017a764cee402189c97b032ab1b977": {
      "model_module": "@jupyter-widgets/controls",
      "model_module_version": "1.5.0",
      "model_name": "DescriptionStyleModel",
      "state": {
       "_model_module": "@jupyter-widgets/controls",
       "_model_module_version": "1.5.0",
       "_model_name": "DescriptionStyleModel",
       "_view_count": null,
       "_view_module": "@jupyter-widgets/base",
       "_view_module_version": "1.2.0",
       "_view_name": "StyleView",
       "description_width": ""
      }
     },
     "edaebc32b76d40f7b67118a4217c00c5": {
      "model_module": "@jupyter-widgets/controls",
      "model_module_version": "1.5.0",
      "model_name": "FloatProgressModel",
      "state": {
       "_dom_classes": [],
       "_model_module": "@jupyter-widgets/controls",
       "_model_module_version": "1.5.0",
       "_model_name": "FloatProgressModel",
       "_view_count": null,
       "_view_module": "@jupyter-widgets/controls",
       "_view_module_version": "1.5.0",
       "_view_name": "ProgressView",
       "bar_style": "success",
       "description": "",
       "description_tooltip": null,
       "layout": "IPY_MODEL_b727a112ef60429a9aa6101362777865",
       "max": 231508.0,
       "min": 0.0,
       "orientation": "horizontal",
       "style": "IPY_MODEL_f5258e896c1647b2bfae25ce07c4f452",
       "value": 231508.0
      }
     },
     "ef33af81552a4df1a9ef4f1e22427b86": {
      "model_module": "@jupyter-widgets/base",
      "model_module_version": "1.2.0",
      "model_name": "LayoutModel",
      "state": {
       "_model_module": "@jupyter-widgets/base",
       "_model_module_version": "1.2.0",
       "_model_name": "LayoutModel",
       "_view_count": null,
       "_view_module": "@jupyter-widgets/base",
       "_view_module_version": "1.2.0",
       "_view_name": "LayoutView",
       "align_content": null,
       "align_items": null,
       "align_self": null,
       "border": null,
       "bottom": null,
       "display": null,
       "flex": null,
       "flex_flow": null,
       "grid_area": null,
       "grid_auto_columns": null,
       "grid_auto_flow": null,
       "grid_auto_rows": null,
       "grid_column": null,
       "grid_gap": null,
       "grid_row": null,
       "grid_template_areas": null,
       "grid_template_columns": null,
       "grid_template_rows": null,
       "height": null,
       "justify_content": null,
       "justify_items": null,
       "left": null,
       "margin": null,
       "max_height": null,
       "max_width": null,
       "min_height": null,
       "min_width": null,
       "object_fit": null,
       "object_position": null,
       "order": null,
       "overflow": null,
       "overflow_x": null,
       "overflow_y": null,
       "padding": null,
       "right": null,
       "top": null,
       "visibility": null,
       "width": null
      }
     },
     "ef9be3b6de5f4d3480f79babae8e32da": {
      "model_module": "@jupyter-widgets/base",
      "model_module_version": "1.2.0",
      "model_name": "LayoutModel",
      "state": {
       "_model_module": "@jupyter-widgets/base",
       "_model_module_version": "1.2.0",
       "_model_name": "LayoutModel",
       "_view_count": null,
       "_view_module": "@jupyter-widgets/base",
       "_view_module_version": "1.2.0",
       "_view_name": "LayoutView",
       "align_content": null,
       "align_items": null,
       "align_self": null,
       "border": null,
       "bottom": null,
       "display": null,
       "flex": null,
       "flex_flow": null,
       "grid_area": null,
       "grid_auto_columns": null,
       "grid_auto_flow": null,
       "grid_auto_rows": null,
       "grid_column": null,
       "grid_gap": null,
       "grid_row": null,
       "grid_template_areas": null,
       "grid_template_columns": null,
       "grid_template_rows": null,
       "height": null,
       "justify_content": null,
       "justify_items": null,
       "left": null,
       "margin": null,
       "max_height": null,
       "max_width": null,
       "min_height": null,
       "min_width": null,
       "object_fit": null,
       "object_position": null,
       "order": null,
       "overflow": null,
       "overflow_x": null,
       "overflow_y": null,
       "padding": null,
       "right": null,
       "top": null,
       "visibility": null,
       "width": null
      }
     },
     "f2c47267e6f546b3a018e4c40965421c": {
      "model_module": "@jupyter-widgets/controls",
      "model_module_version": "1.5.0",
      "model_name": "DescriptionStyleModel",
      "state": {
       "_model_module": "@jupyter-widgets/controls",
       "_model_module_version": "1.5.0",
       "_model_name": "DescriptionStyleModel",
       "_view_count": null,
       "_view_module": "@jupyter-widgets/base",
       "_view_module_version": "1.2.0",
       "_view_name": "StyleView",
       "description_width": ""
      }
     },
     "f4f04b840c1b44608f6474b36839889d": {
      "model_module": "@jupyter-widgets/controls",
      "model_module_version": "1.5.0",
      "model_name": "HTMLModel",
      "state": {
       "_dom_classes": [],
       "_model_module": "@jupyter-widgets/controls",
       "_model_module_version": "1.5.0",
       "_model_name": "HTMLModel",
       "_view_count": null,
       "_view_module": "@jupyter-widgets/controls",
       "_view_module_version": "1.5.0",
       "_view_name": "HTMLView",
       "description": "",
       "description_tooltip": null,
       "layout": "IPY_MODEL_f9a35a3e66414e09b25f254ad2791648",
       "placeholder": "​",
       "style": "IPY_MODEL_e600a6c882c34077b5080f3c11c9dfb0",
       "value": " 232k/232k [00:00&lt;00:00, 4.13MB/s]"
      }
     },
     "f5258e896c1647b2bfae25ce07c4f452": {
      "model_module": "@jupyter-widgets/controls",
      "model_module_version": "1.5.0",
      "model_name": "ProgressStyleModel",
      "state": {
       "_model_module": "@jupyter-widgets/controls",
       "_model_module_version": "1.5.0",
       "_model_name": "ProgressStyleModel",
       "_view_count": null,
       "_view_module": "@jupyter-widgets/base",
       "_view_module_version": "1.2.0",
       "_view_name": "StyleView",
       "bar_color": null,
       "description_width": ""
      }
     },
     "f6549deec7be42e695a0e0ff3a1722af": {
      "model_module": "@jupyter-widgets/controls",
      "model_module_version": "1.5.0",
      "model_name": "DescriptionStyleModel",
      "state": {
       "_model_module": "@jupyter-widgets/controls",
       "_model_module_version": "1.5.0",
       "_model_name": "DescriptionStyleModel",
       "_view_count": null,
       "_view_module": "@jupyter-widgets/base",
       "_view_module_version": "1.2.0",
       "_view_name": "StyleView",
       "description_width": ""
      }
     },
     "f67a35e4ef4e4a97a470bf3c2ce71b50": {
      "model_module": "@jupyter-widgets/controls",
      "model_module_version": "1.5.0",
      "model_name": "FloatProgressModel",
      "state": {
       "_dom_classes": [],
       "_model_module": "@jupyter-widgets/controls",
       "_model_module_version": "1.5.0",
       "_model_name": "FloatProgressModel",
       "_view_count": null,
       "_view_module": "@jupyter-widgets/controls",
       "_view_module_version": "1.5.0",
       "_view_name": "ProgressView",
       "bar_style": "success",
       "description": "",
       "description_tooltip": null,
       "layout": "IPY_MODEL_a6ad53c965b74d34b8ef8e7aa01f7996",
       "max": 28.0,
       "min": 0.0,
       "orientation": "horizontal",
       "style": "IPY_MODEL_4c6472f57f6941029c23607e5d39b480",
       "value": 28.0
      }
     },
     "f67fb0f0a55e431e9f9a3ecfad0d9e35": {
      "model_module": "@jupyter-widgets/controls",
      "model_module_version": "1.5.0",
      "model_name": "HBoxModel",
      "state": {
       "_dom_classes": [],
       "_model_module": "@jupyter-widgets/controls",
       "_model_module_version": "1.5.0",
       "_model_name": "HBoxModel",
       "_view_count": null,
       "_view_module": "@jupyter-widgets/controls",
       "_view_module_version": "1.5.0",
       "_view_name": "HBoxView",
       "box_style": "",
       "children": [
        "IPY_MODEL_fe3668813064473b8373703d92f602ec",
        "IPY_MODEL_a645db906de74b3bbd6d50d2da7e90c0",
        "IPY_MODEL_f6d5388aaecf4a80809aa37eb3e9797e"
       ],
       "layout": "IPY_MODEL_982600b653f54b4ab2f2600da646d734"
      }
     },
     "f6d5388aaecf4a80809aa37eb3e9797e": {
      "model_module": "@jupyter-widgets/controls",
      "model_module_version": "1.5.0",
      "model_name": "HTMLModel",
      "state": {
       "_dom_classes": [],
       "_model_module": "@jupyter-widgets/controls",
       "_model_module_version": "1.5.0",
       "_model_name": "HTMLModel",
       "_view_count": null,
       "_view_module": "@jupyter-widgets/controls",
       "_view_module_version": "1.5.0",
       "_view_name": "HTMLView",
       "description": "",
       "description_tooltip": null,
       "layout": "IPY_MODEL_67594241f6674fec99f33e9da0cda747",
       "placeholder": "​",
       "style": "IPY_MODEL_47125dfa0fa94fa7b12e4641eb2b9eb6",
       "value": " 268M/268M [00:01&lt;00:00, 228MB/s]"
      }
     },
     "f9a35a3e66414e09b25f254ad2791648": {
      "model_module": "@jupyter-widgets/base",
      "model_module_version": "1.2.0",
      "model_name": "LayoutModel",
      "state": {
       "_model_module": "@jupyter-widgets/base",
       "_model_module_version": "1.2.0",
       "_model_name": "LayoutModel",
       "_view_count": null,
       "_view_module": "@jupyter-widgets/base",
       "_view_module_version": "1.2.0",
       "_view_name": "LayoutView",
       "align_content": null,
       "align_items": null,
       "align_self": null,
       "border": null,
       "bottom": null,
       "display": null,
       "flex": null,
       "flex_flow": null,
       "grid_area": null,
       "grid_auto_columns": null,
       "grid_auto_flow": null,
       "grid_auto_rows": null,
       "grid_column": null,
       "grid_gap": null,
       "grid_row": null,
       "grid_template_areas": null,
       "grid_template_columns": null,
       "grid_template_rows": null,
       "height": null,
       "justify_content": null,
       "justify_items": null,
       "left": null,
       "margin": null,
       "max_height": null,
       "max_width": null,
       "min_height": null,
       "min_width": null,
       "object_fit": null,
       "object_position": null,
       "order": null,
       "overflow": null,
       "overflow_x": null,
       "overflow_y": null,
       "padding": null,
       "right": null,
       "top": null,
       "visibility": null,
       "width": null
      }
     },
     "fc5147476ee94549ae398268031c55e0": {
      "model_module": "@jupyter-widgets/controls",
      "model_module_version": "1.5.0",
      "model_name": "HTMLModel",
      "state": {
       "_dom_classes": [],
       "_model_module": "@jupyter-widgets/controls",
       "_model_module_version": "1.5.0",
       "_model_name": "HTMLModel",
       "_view_count": null,
       "_view_module": "@jupyter-widgets/controls",
       "_view_module_version": "1.5.0",
       "_view_name": "HTMLView",
       "description": "",
       "description_tooltip": null,
       "layout": "IPY_MODEL_3b00d10dc56d476d9f146698da9bdf48",
       "placeholder": "​",
       "style": "IPY_MODEL_da5d583e5ae4417aaccc35ff6a3e9d4c",
       "value": " 28.0/28.0 [00:00&lt;00:00, 1.52kB/s]"
      }
     },
     "fce8ea4ef5e7483b817a6b018a331984": {
      "model_module": "@jupyter-widgets/controls",
      "model_module_version": "1.5.0",
      "model_name": "HTMLModel",
      "state": {
       "_dom_classes": [],
       "_model_module": "@jupyter-widgets/controls",
       "_model_module_version": "1.5.0",
       "_model_name": "HTMLModel",
       "_view_count": null,
       "_view_module": "@jupyter-widgets/controls",
       "_view_module_version": "1.5.0",
       "_view_name": "HTMLView",
       "description": "",
       "description_tooltip": null,
       "layout": "IPY_MODEL_2ac80992839b4f06963805caa2188728",
       "placeholder": "​",
       "style": "IPY_MODEL_2dd7744eb6e747568fecabbc02a53392",
       "value": " 440M/440M [00:04&lt;00:00, 102MB/s]"
      }
     },
     "fe3668813064473b8373703d92f602ec": {
      "model_module": "@jupyter-widgets/controls",
      "model_module_version": "1.5.0",
      "model_name": "HTMLModel",
      "state": {
       "_dom_classes": [],
       "_model_module": "@jupyter-widgets/controls",
       "_model_module_version": "1.5.0",
       "_model_name": "HTMLModel",
       "_view_count": null,
       "_view_module": "@jupyter-widgets/controls",
       "_view_module_version": "1.5.0",
       "_view_name": "HTMLView",
       "description": "",
       "description_tooltip": null,
       "layout": "IPY_MODEL_7084b6dee5e04b4aa5432edbb4944ae5",
       "placeholder": "​",
       "style": "IPY_MODEL_9d93c81aaa0c4cfca63a051faa9e328a",
       "value": "Downloading pytorch_model.bin: 100%"
      }
     }
    },
    "version_major": 2,
    "version_minor": 0
   }
  }
 },
 "nbformat": 4,
 "nbformat_minor": 5
}
